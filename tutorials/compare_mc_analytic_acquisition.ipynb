{
 "cells": [
  {
   "cell_type": "markdown",
   "metadata": {},
   "source": [
    "## Analytic and MC-based Expected Improvement (EI) Acquisition\n",
    "\n",
    "In this tutorial, we compare the analytic and MC-based EI acquisition functions and show both `scipy`- and `torch`-based optimizers for optimizing the acquisition. This tutorial highlights the modularity of botorch and the ability to easily try different acquisition functions and accompanying optimization algorithms on the same fitted model."
   ]
  },
  {
   "cell_type": "markdown",
   "metadata": {},
   "source": [
    "#### Comparison of analytic and MC-based EI"
   ]
  },
  {
   "cell_type": "code",
   "execution_count": 1,
   "metadata": {
    "collapsed": true
   },
   "outputs": [],
   "source": [
    "import torch\n",
    "from botorch.test_functions.hartmann6 import neg_hartmann6\n",
    "from botorch.models import SingleTaskGP\n",
    "from botorch import fit_gpytorch_model\n",
    "from gpytorch.mlls.exact_marginal_log_likelihood import ExactMarginalLogLikelihood"
   ]
  },
  {
   "cell_type": "markdown",
   "metadata": {},
   "source": [
    "First, we generate some random data and fit a SingleTaskGP for a 6-dimensional synthetic test function 'Hartmann6'."
   ]
  },
  {
   "cell_type": "code",
   "execution_count": 2,
   "metadata": {
    "collapsed": true
   },
   "outputs": [],
   "source": [
    "torch.manual_seed(seed=0)\n",
    "train_x = torch.rand(10, 6)\n",
    "train_obj = neg_hartmann6(train_x)\n",
    "model = SingleTaskGP(train_X=train_x, train_Y=train_obj)\n",
    "mll = ExactMarginalLogLikelihood(model.likelihood, model)\n",
    "fit_gpytorch_model(mll);"
   ]
  },
  {
   "cell_type": "markdown",
   "metadata": {},
   "source": [
    "Initialize an analytic EI acquisition function on the fitted model.\n"
   ]
  },
  {
   "cell_type": "code",
   "execution_count": 3,
   "metadata": {
    "collapsed": true
   },
   "outputs": [],
   "source": [
    "from botorch.acquisition import ExpectedImprovement\n",
    "best_value = train_obj.max()\n",
    "EI = ExpectedImprovement(model=model, best_f=best_value)"
   ]
  },
  {
   "cell_type": "markdown",
   "metadata": {},
   "source": [
    "Next, we optimize the analytic EI acquisition function using 50 random restarts chosen from 100 initial raw samples."
   ]
  },
  {
   "cell_type": "code",
   "execution_count": 4,
   "metadata": {
    "collapsed": true
   },
   "outputs": [],
   "source": [
    "from botorch.optim import joint_optimize\n",
    "torch.manual_seed(seed=0)\n",
    "new_point_analytic = joint_optimize(\n",
    "    acq_function=EI,\n",
    "    bounds=torch.tensor([[0.0]*6, [1.0]*6]),\n",
    "    q=1,\n",
    "    num_restarts=20,\n",
    "    raw_samples=100,\n",
    "    options={\"simple_init\": True},\n",
    ")"
   ]
  },
  {
   "cell_type": "code",
   "execution_count": 5,
   "metadata": {},
   "outputs": [
    {
     "data": {
      "text/plain": [
       "tensor([0.2238, 0.9650, 0.2748, 0.3578, 0.2418, 0.0283])"
      ]
     },
     "execution_count": 5,
     "metadata": {
      "bento_obj_id": "139791834314144"
     },
     "output_type": "execute_result"
    }
   ],
   "source": [
    "new_point_analytic"
   ]
  },
  {
   "cell_type": "markdown",
   "metadata": {},
   "source": [
    "Now, let's swap out the analytic acquisition function and replace it with an MC version. Note that we are in the `q = 1` case; for `q > 1`, an analytic version does not exist."
   ]
  },
  {
   "cell_type": "code",
   "execution_count": 6,
   "metadata": {
    "collapsed": true
   },
   "outputs": [],
   "source": [
    "from botorch.acquisition import qExpectedImprovement\n",
    "from botorch.acquisition.sampler import SobolQMCNormalSampler\n",
    "sampler = SobolQMCNormalSampler(num_samples=500, seed=0, resample=False)        \n",
    "MC_EI = qExpectedImprovement(\n",
    "    model, best_f=best_value, sampler=sampler\n",
    ")\n",
    "torch.manual_seed(seed=0) # to keep the restart conditions the same\n",
    "new_point_mc = joint_optimize(\n",
    "    acq_function=MC_EI,\n",
    "    bounds=torch.tensor([[0.0]*6, [1.0]*6]),\n",
    "    q=1,\n",
    "    num_restarts=20,\n",
    "    raw_samples=100,\n",
    "    options={\"simple_init\": True},\n",
    ")"
   ]
  },
  {
   "cell_type": "code",
   "execution_count": 7,
   "metadata": {},
   "outputs": [
    {
     "data": {
      "text/plain": [
       "tensor([[0.2237, 0.9650, 0.2750, 0.3579, 0.2417, 0.0283]])"
      ]
     },
     "execution_count": 7,
     "metadata": {
      "bento_obj_id": "139791795049456"
     },
     "output_type": "execute_result"
    }
   ],
   "source": [
    "new_point_mc"
   ]
  },
  {
   "cell_type": "markdown",
   "metadata": {},
   "source": [
    "Check that the two generated points are close."
   ]
  },
  {
   "cell_type": "code",
   "execution_count": 8,
   "metadata": {},
   "outputs": [
    {
     "data": {
      "text/plain": [
       "tensor(0.0003)"
      ]
     },
     "execution_count": 8,
     "metadata": {
      "bento_obj_id": "139791820804744"
     },
     "output_type": "execute_result"
    }
   ],
   "source": [
    "torch.norm(new_point_mc - new_point_analytic)"
   ]
  },
  {
   "cell_type": "markdown",
   "metadata": {},
   "source": [
    "#### Using a torch optimizer on a stochastic acquisition function\n",
    "We could also optimize using a `torch` optimizer. This is particularly useful for the case of a stochastic acquisition function, which we can obtain by setting `resample=True`. First, we illustrate the usage of `torch.optim.Adam`. In the code snippet below, `gen_batch_initial_candidates` uses a heuristic to select a set of restart locations, `gen_candidates_torch` is a wrapper to the `torch` optimizer for maximizing the acquisition value, and `get_best_candidates` finds the best result amongst the random restarts."
   ]
  },
  {
   "cell_type": "code",
   "execution_count": 9,
   "metadata": {
    "collapsed": true
   },
   "outputs": [],
   "source": [
    "from botorch import get_best_candidates, gen_candidates_torch\n",
    "from botorch.optim import gen_batch_initial_candidates\n",
    "resampler = SobolQMCNormalSampler(num_samples=500, seed=0, resample=True)        \n",
    "MC_EI_resample = qExpectedImprovement(\n",
    "    model, best_f=best_value, sampler=resampler\n",
    ")\n",
    "bounds = torch.tensor([[0.0]*6, [1.0]*6])\n",
    "torch.manual_seed(seed=0) # to keep the restart conditions the same\n",
    "batch_initial_candidates = gen_batch_initial_candidates(\n",
    "    acq_function=MC_EI_resample,\n",
    "    bounds=bounds,\n",
    "    q=1,\n",
    "    num_restarts=20,\n",
    "    raw_samples=100,\n",
    "    options={\"simple_init\": True},\n",
    ")\n",
    "batch_candidates, batch_acq_values = gen_candidates_torch(\n",
    "    initial_candidates=batch_initial_candidates,\n",
    "    acquisition_function=MC_EI_resample,\n",
    "    lower_bounds=bounds[0],\n",
    "    upper_bounds=bounds[1],\n",
    "    optimizer=torch.optim.Adam,\n",
    "    verbose=False,\n",
    "    options={\"maxiter\": 100},\n",
    ")\n",
    "new_point_torch_Adam = get_best_candidates(\n",
    "    batch_candidates=batch_candidates, batch_values=batch_acq_values\n",
    ").detach()"
   ]
  },
  {
   "cell_type": "code",
   "execution_count": 10,
   "metadata": {},
   "outputs": [
    {
     "data": {
      "text/plain": [
       "tensor([[0.2240, 0.9641, 0.2737, 0.3574, 0.2411, 0.0288]])"
      ]
     },
     "execution_count": 10,
     "metadata": {
      "bento_obj_id": "139791795077480"
     },
     "output_type": "execute_result"
    }
   ],
   "source": [
    "new_point_torch_Adam"
   ]
  },
  {
   "cell_type": "code",
   "execution_count": 11,
   "metadata": {},
   "outputs": [
    {
     "data": {
      "text/plain": [
       "tensor(0.0017)"
      ]
     },
     "execution_count": 11,
     "metadata": {
      "bento_obj_id": "139791820707592"
     },
     "output_type": "execute_result"
    }
   ],
   "source": [
    "torch.norm(new_point_torch_Adam - new_point_analytic)"
   ]
  },
  {
   "cell_type": "markdown",
   "metadata": {},
   "source": [
    "By changing the `optimizer` parameter to `gen_candidates_torch`, we can also try `torch.optim.SGD`. Note that we are allowing `SGD` more iterations than `Adam` to find the best point."
   ]
  },
  {
   "cell_type": "code",
   "execution_count": 12,
   "metadata": {
    "collapsed": true
   },
   "outputs": [],
   "source": [
    "torch.manual_seed(seed=0)\n",
    "batch_candidates, batch_acq_values = gen_candidates_torch(\n",
    "    initial_candidates=batch_initial_candidates,\n",
    "    acquisition_function=MC_EI_resample,\n",
    "    lower_bounds=bounds[0],\n",
    "    upper_bounds=bounds[1],\n",
    "    optimizer=torch.optim.SGD,\n",
    "    verbose=False,\n",
    "    options={\"maxiter\": 500},\n",
    ")\n",
    "new_point_torch_SGD = get_best_candidates(\n",
    "    batch_candidates=batch_candidates, batch_values=batch_acq_values\n",
    ").detach()"
   ]
  },
  {
   "cell_type": "code",
   "execution_count": 13,
   "metadata": {},
   "outputs": [
    {
     "data": {
      "text/plain": [
       "tensor([[0.2205, 0.9790, 0.2749, 0.3027, 0.2434, 0.0470]])"
      ]
     },
     "execution_count": 13,
     "metadata": {
      "bento_obj_id": "139791820685248"
     },
     "output_type": "execute_result"
    }
   ],
   "source": [
    "new_point_torch_SGD"
   ]
  },
  {
   "cell_type": "code",
   "execution_count": 14,
   "metadata": {},
   "outputs": [
    {
     "data": {
      "text/plain": [
       "tensor(0.0600)"
      ]
     },
     "execution_count": 14,
     "metadata": {
      "bento_obj_id": "139791795089344"
     },
     "output_type": "execute_result"
    }
   ],
   "source": [
    "torch.norm(new_point_torch_SGD - new_point_analytic)"
   ]
  }
 ],
 "metadata": {
  "bento_stylesheets": {
   "bento/extensions/flow/main.css": true,
   "bento/extensions/kernel_selector/main.css": true,
   "bento/extensions/kernel_ui/main.css": true,
   "bento/extensions/new_kernel/main.css": true,
   "bento/extensions/system_usage/main.css": true,
   "bento/extensions/theme/main.css": true
  },
  "disseminate_notebook_id": {
   "notebook_id": "2298759210395585"
  },
  "disseminate_notebook_info": {
   "bento_version": "20190325-030410",
   "description": "",
   "hide_code": false,
   "hipster_group": "",
   "kernel_build_info": {
    "error": "The file located at '/data/users/drjiang/fbsource/fbcode/bento/kernels/local/ae_lazarus/TARGETS' could not be found."
   },
   "no_uii": true,
   "notebook_number": "75341",
   "others_can_edit": false,
   "request_review": true,
   "reviewers": "",
   "revision_id": "333555564173370",
   "tags": "",
   "tasks": "",
   "title": "acquisition_function_tutorial"
  },
  "kernelspec": {
   "display_name": "ae_lazarus (local)",
   "language": "python",
   "name": "ae_lazarus_local"
  },
  "language_info": {
   "codemirror_mode": {
    "name": "ipython",
    "version": 3
   },
   "file_extension": ".py",
   "mimetype": "text/x-python",
   "name": "python",
   "nbconvert_exporter": "python",
   "pygments_lexer": "ipython3",
   "version": "3.6.3rc1+"
  }
 },
 "nbformat": 4,
 "nbformat_minor": 2
}
