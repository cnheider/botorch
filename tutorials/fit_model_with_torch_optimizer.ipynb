{
 "cells": [
  {
   "cell_type": "markdown",
   "metadata": {},
   "source": [
    "# Fitting models in botorch with a torch.optim.Optimizer\n",
    "\n",
    "botorch provides a convenient `botorch.fit.fit_gpytorch_model` function with sensible defaults that work on most basic models, including those that botorch ships with. However, in more advanced uses cases you may need or want to implement your own model fitting logic.\n",
    "\n",
    "This tutorial allows you to customize model fitting to your needs using the familiar PyTorch-style model fitting loop.\n",
    "\n",
    "This tutorial is adapted from GPyTorch's [Simple GP Regression Tutorial](https://github.com/cornellius-gp/gpytorch/blob/master/examples/01_Simple_GP_Regression/Simple_GP_Regression.ipynb) and has very few changes because the out-of-the box models that botorch provides are GPyTorch models; in fact, they are proper subclasses that add simply add the `botorch.models.Model` API functions."
   ]
  },
  {
   "cell_type": "code",
   "execution_count": 1,
   "metadata": {
    "collapsed": true
   },
   "outputs": [],
   "source": [
    "import math\n",
    "import torch\n",
    "\n",
    "from matplotlib import pyplot as plt\n",
    "%matplotlib inline"
   ]
  },
  {
   "cell_type": "code",
   "execution_count": 2,
   "metadata": {
    "collapsed": true
   },
   "outputs": [],
   "source": [
    "dtype = torch.float\n",
    "# use a GPU if available\n",
    "device = torch.device(\"cuda\" if torch.cuda.is_available() else \"cpu\")"
   ]
  },
  {
   "cell_type": "markdown",
   "metadata": {},
   "source": [
    "### Set up function to model\n",
    "In this tutorial we will model a simple sinusoidal function with i.i.d. Gaussian noise:\n",
    "$$y = \\sin(2\\pi x) + \\epsilon, ~\\epsilon \\sim \\mathcal N(0,0.1)$$"
   ]
  },
  {
   "cell_type": "markdown",
   "metadata": {},
   "source": [
    "#### Initialize training data"
   ]
  },
  {
   "cell_type": "code",
   "execution_count": 3,
   "metadata": {
    "collapsed": true
   },
   "outputs": [],
   "source": [
    "# use regular spaced points on the interval [0, 1]\n",
    "train_X = torch.linspace(0, 1, 15, dtype=dtype, device=device)\n",
    "# sample observed values and add some synthetic noise\n",
    "train_Y = torch.sin(train_X * (2 * math.pi)) + torch.randn_like(train_X) * 0.1"
   ]
  },
  {
   "cell_type": "markdown",
   "metadata": {},
   "source": [
    "#### Initialize model\n",
    "We will model the function using a `botorch.models.SingleTaskGP`, which by default uses a `gpytorch.likelihoods.GaussianLikelihood` and infers the unknown noise level. "
   ]
  },
  {
   "cell_type": "code",
   "execution_count": 4,
   "metadata": {
    "collapsed": true
   },
   "outputs": [],
   "source": [
    "from botorch.models import SingleTaskGP\n",
    "\n",
    "model = SingleTaskGP(train_X=train_X, train_Y=train_Y)"
   ]
  },
  {
   "cell_type": "markdown",
   "metadata": {},
   "source": [
    "#### Define marginal log likelihood \n",
    "We will optimizing the the kernel hyperparameters and the likelihood's noise parameter jointly by minimizing the negative `gpytorch.mlls.ExactMarginalLogLikelihood` (our loss function)."
   ]
  },
  {
   "cell_type": "code",
   "execution_count": 5,
   "metadata": {
    "collapsed": true
   },
   "outputs": [],
   "source": [
    "from gpytorch.mlls import ExactMarginalLogLikelihood\n",
    "\n",
    "mll = ExactMarginalLogLikelihood(likelihood=model.likelihood, model=model)\n",
    "# set mll and all submodules to the specified dtype and device\n",
    "mll = mll.to(train_X)"
   ]
  },
  {
   "cell_type": "markdown",
   "metadata": {},
   "source": [
    "### Define optimizer and specify parameters to optimize\n",
    "We will use stochastic gradient descent (`torch.optim.SGD`) to optimize the kernel hyperparameters and the noise level. In this example, we will use a simple fixed learning rate of 0.1, but in practice the learning may need to adjusted. You can use any of \n",
    "\n",
    "Notes:\n",
    "- As the `GaussianLikelihood` module is a of child (submodule) of the `SingleTaskGP` moduel, `model.parameters()` will also include the noise level of the `GaussianLikelihood`. \n",
    "- A subset of the parameters could be passed to the optimizer to tune those parameters, while leaving the other parameters fixed."
   ]
  },
  {
   "cell_type": "code",
   "execution_count": 6,
   "metadata": {
    "collapsed": true
   },
   "outputs": [],
   "source": [
    "from torch.optim import SGD\n",
    "\n",
    "optimizer = SGD([{'params': model.parameters()}], lr=0.1)"
   ]
  },
  {
   "cell_type": "markdown",
   "metadata": {},
   "source": [
    "### Fit model hyperparameters and noise level\n",
    "Now we are ready to write our optimization loop. We will perform 100 epochs of stochastic gradient descent using our entire training set."
   ]
  },
  {
   "cell_type": "code",
   "execution_count": 7,
   "metadata": {},
   "outputs": [
    {
     "name": "stdout",
     "output_type": "stream",
     "text": [
      "Epoch  10/100 - Loss: 1.467 lengthscale: 0.630 noise: 0.588\n",
      "Epoch  20/100 - Loss: 1.380 lengthscale: 0.563 noise: 0.484\n",
      "Epoch  30/100 - Loss: 1.286 lengthscale: 0.499 noise: 0.392\n",
      "Epoch  40/100 - Loss: 1.178 lengthscale: 0.437 noise: 0.310\n",
      "Epoch  50/100 - Loss: 1.060 lengthscale: 0.384 noise: 0.238\n",
      "Epoch  60/100 - Loss: 0.941 lengthscale: 0.347 noise: 0.178\n",
      "Epoch  70/100 - Loss: 0.828 lengthscale: 0.326 noise: 0.132\n",
      "Epoch  80/100 - Loss: 0.722 lengthscale: 0.317 noise: 0.097\n",
      "Epoch  90/100 - Loss: 0.623 lengthscale: 0.316 noise: 0.072\n",
      "Epoch 100/100 - Loss: 0.532 lengthscale: 0.318 noise: 0.054\n"
     ]
    }
   ],
   "source": [
    "NUM_EPOCHS = 100\n",
    "\n",
    "model.train()\n",
    "\n",
    "for epoch in range(NUM_EPOCHS):\n",
    "    # clear gradients\n",
    "    optimizer.zero_grad()\n",
    "    # forward pass through the model to obtain the output MultivariateNormal\n",
    "    output = model(train_X)\n",
    "    # Compute negative marginal log likelihood\n",
    "    loss = -mll(output, train_Y)\n",
    "    # back prop gradients\n",
    "    loss.backward()\n",
    "    # print every 10 iterations\n",
    "    if (epoch + 1) % 10 == 0:\n",
    "        print(\n",
    "            f\"Epoch {epoch+1:>3}/{NUM_EPOCHS} - Loss: {loss.item():>4.3f} \"\n",
    "            f\"lengthscale: {model.covar_module.base_kernel.lengthscale.item():>4.3f} \" \n",
    "            f\"noise: {model.likelihood.noise.item():>4.3f}\" \n",
    "         )\n",
    "    optimizer.step()"
   ]
  },
  {
   "cell_type": "markdown",
   "metadata": {},
   "source": [
    "### Compute posterior over test points and plot fit\n",
    "We plot the posterior mean and the 2 standard deviations from the mean."
   ]
  },
  {
   "cell_type": "code",
   "execution_count": 8,
   "metadata": {
    "collapsed": true
   },
   "outputs": [],
   "source": [
    "# set model and likelihood to eval mode\n",
    "model.eval()\n",
    "model.likelihood.eval();"
   ]
  },
  {
   "cell_type": "code",
   "execution_count": 9,
   "metadata": {},
   "outputs": [
    {
     "data": {
      "text/plain": [
       "<matplotlib.legend.Legend at 0x7f3937a64ba8>"
      ]
     },
     "execution_count": 9,
     "metadata": {
      "bento_obj_id": "139883723508648"
     },
     "output_type": "execute_result"
    },
    {
     "data": {
      "image/png": "[encoded data removed]",
      "text/plain": [
       "<Figure size 288x216 with 1 Axes>"
      ]
     },
     "metadata": {
      "bento_obj_id": "139883723508704"
     },
     "output_type": "display_data"
    }
   ],
   "source": [
    "# Initialize plot\n",
    "f, ax = plt.subplots(1, 1, figsize=(4, 3))\n",
    "# test model on 101 regular spaced points on the interval [0, 1]\n",
    "test_X = torch.linspace(0, 1, 101, dtype=dtype, device=device)\n",
    "# no need for gradients\n",
    "with torch.no_grad():\n",
    "    # compute posterior\n",
    "    posterior = model.posterior(test_X)\n",
    "    # Get upper and lower confidence bounds (2 standard deviations from the mean)\n",
    "    lower, upper = posterior.mvn.confidence_region()\n",
    "    # Plot training points as black stars\n",
    "    ax.plot(train_X.cpu().numpy(), train_Y.cpu().numpy(), 'k*')\n",
    "    # Plot posterior means as blue line\n",
    "    ax.plot(test_X.cpu().numpy(), posterior.mean.cpu().numpy(), 'b')\n",
    "    # Shade between the lower and upper confidence bounds\n",
    "    ax.fill_between(test_X.cpu().numpy(), lower.cpu().numpy(), upper.cpu().numpy(), alpha=0.5)\n",
    "ax.legend(['Observed Data', 'Mean', 'Confidence'])"
   ]
  },
  {
   "cell_type": "markdown",
   "metadata": {},
   "source": [
    "# Interfacing with Ax\n",
    "\n",
    "It's simple to package up a custom optimizer loop like the one above and use it within Ax. As described in the [Using botorch with Ax tutorial](../custom_botorch_model_in_ax), this requires defining a custom `model_constructor` callable that then can ben passed to the `get_botorch` factory function."
   ]
  },
  {
   "cell_type": "code",
   "execution_count": 10,
   "metadata": {
    "collapsed": true
   },
   "outputs": [],
   "source": [
    "def _get_and_fit_model(Xs, Ys, **kwargs):\n",
    "    \n",
    "    train_X, train_Y = Xs[0], Ys[0]\n",
    "    model = SingleTaskGP(train_X=train_X, train_Y=train_Y)\n",
    "    mll = ExactMarginalLogLikelihood(model.likelihood, model).to(train_X)\n",
    "    model.train()\n",
    "    \n",
    "    optimizer = SGD([{'params': model.parameters()}], lr=kwargs.get(\"lr\"))\n",
    "    for epoch in range(kwargs.get(\"epochs\")):\n",
    "        optimizer.zero_grad()\n",
    "        output = model(train_X)\n",
    "        loss = -mll(output, train_Y)\n",
    "        loss.backward()\n",
    "        optimizer.step()\n",
    "    \n",
    "    return model"
   ]
  }
 ],
 "metadata": {
  "anaconda-cloud": {},
  "bento_stylesheets": {
   "bento/extensions/flow/main.css": true,
   "bento/extensions/kernel_selector/main.css": true,
   "bento/extensions/kernel_ui/main.css": true,
   "bento/extensions/new_kernel/main.css": true,
   "bento/extensions/system_usage/main.css": true,
   "bento/extensions/theme/main.css": true
  },
  "disseminate_notebook_id": {
   "notebook_id": "343678812935752"
  },
  "disseminate_notebook_info": {
   "bento_version": "20190401-041013",
   "cell_hash": "30f8023f1cbed7bd25aa390208a7c8e9",
   "description": "",
   "hide_code": false,
   "hipster_group": "",
   "kernel_build_info": {
    "error": "The file located at '/data/users/balandat/fbsource/fbcode/bento/kernels/local/ae_lazarus/TARGETS' could not be found."
   },
   "no_uii": true,
   "notebook_number": "77413",
   "others_can_edit": false,
   "request_review": true,
   "reviewers": "",
   "revision_id": "366257950766810",
   "tags": "",
   "tasks": "",
   "title": "fit_model_with_torch_optimizer"
  },
  "kernelspec": {
   "display_name": "ae_lazarus (local)",
   "language": "python",
   "name": "ae_lazarus_local"
  },
  "language_info": {
   "codemirror_mode": {
    "name": "ipython",
    "version": 3
   },
   "file_extension": ".py",
   "mimetype": "text/x-python",
   "name": "python",
   "nbconvert_exporter": "python",
   "pygments_lexer": "ipython3",
   "version": "3.6.3rc1+"
  }
 },
 "nbformat": 4,
 "nbformat_minor": 1
}
