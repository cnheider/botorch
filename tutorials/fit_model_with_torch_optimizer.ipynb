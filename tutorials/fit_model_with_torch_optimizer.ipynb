{
 "cells": [
  {
   "cell_type": "markdown",
   "metadata": {},
   "source": [
    "# Fitting models in botorch with a torch.optim.Optimizer\n",
    "botorch also provides a convenient `botorch.fit.fit_model` function with sensible defaults that work on most basic models. This tutorial allows you to customize model fitting to your needs using the familiar PyTorch-style model fitting loop.\n",
    "\n",
    "This tutorial is adapted from GPyTorch's [Simple GP Regression Tutorial](https://github.com/cornellius-gp/gpytorch/blob/master/examples/01_Simple_GP_Regression/Simple_GP_Regression.ipynb) and has very few changes because the out-of-the box models that botorch provides are GPyTorch models; in fact, they are proper subclasses that add the `botorch.models.Model` and `botorch.posterior.Posterior` API functions."
   ]
  },
  {
   "cell_type": "code",
   "execution_count": 25,
   "metadata": {
    "collapsed": true
   },
   "outputs": [],
   "source": [
    "import math\n",
    "import torch\n",
    "from matplotlib import pyplot as plt"
   ]
  },
  {
   "cell_type": "code",
   "execution_count": 26,
   "metadata": {
    "collapsed": true
   },
   "outputs": [],
   "source": [
    "dtype = torch.float\n",
    "device = torch.device(\"cuda\" if torch.cuda.is_available() else \"cpu\")"
   ]
  },
  {
   "cell_type": "markdown",
   "metadata": {},
   "source": [
    "### Set up function to model\n",
    "In this tutorial we will model a simple sinusoidal function with i.i.d. Gaussian noise:\n",
    "$$y = \\sin(2\\pi x) + \\epsilon, ~\\epsilon \\sim \\mathcal N(0,0.1)$$"
   ]
  },
  {
   "cell_type": "markdown",
   "metadata": {},
   "source": [
    "### Initialize training data"
   ]
  },
  {
   "cell_type": "code",
   "execution_count": 71,
   "metadata": {
    "collapsed": true
   },
   "outputs": [],
   "source": [
    "# use regular spaced points on the interval [0, 1]\n",
    "train_X = torch.linspace(0, 1, 15, dtype=dtype, device=device)\n",
    "# sample observed values\n",
    "train_Y = torch.sin(train_X * (2 * math.pi)) + torch.randn_like(train_X) * 0.1"
   ]
  },
  {
   "cell_type": "markdown",
   "metadata": {},
   "source": [
    "### Initialize model\n",
    "We will model the function using a `botorch.models.SingleTaskGP`, which by default uses a `gpytorch.likelihoods.GaussianLikelihood` and infers the unknown noise level. "
   ]
  },
  {
   "cell_type": "code",
   "execution_count": 82,
   "metadata": {},
   "outputs": [],
   "source": [
    "from botorch.models import SingleTaskGP\n",
    "model = SingleTaskGP(train_X=train_X, train_Y=train_Y)"
   ]
  },
  {
   "cell_type": "markdown",
   "metadata": {},
   "source": [
    "### Define marginal log likelihood \n",
    "We will optimizing the the kernel hyperparameters and the likelihood's noise parameter jointly by minimizing the negative `gpytorch.mlls.ExactMarginalLogLikelihood` (our loss function)."
   ]
  },
  {
   "cell_type": "code",
   "execution_count": 83,
   "metadata": {},
   "outputs": [],
   "source": [
    "from gpytorch.mlls import ExactMarginalLogLikelihood\n",
    "mll = ExactMarginalLogLikelihood(likelihood=model.likelihood, model=model)\n",
    "# set mll and all submodules (model, likelihood) to the specified dtype and device\n",
    "mll = mll.to(dtype=dtype, device=device)"
   ]
  },
  {
   "cell_type": "markdown",
   "metadata": {},
   "source": [
    "### Define optimizer and specify parameters to optimize\n",
    "We will use stochastic gradient descent (`torch.optim.SGD`) to optimize the kernel hyperparameters and the noise level. In this example, we will use a learning rate of 0.1, but in practice the learning may need to adjusted.\n",
    "\n",
    "Note: The `GaussianLikelihood` module is a of child (submodule) of the `SingleTaskGP` object, so `model.parameters()` will include the parameters (noise level) of the `GaussianLikelihood`. \n",
    "\n",
    "Note: a subset of the parameters could be passed to the optimizer to tune those parameters, while leaving the other parameters fixed."
   ]
  },
  {
   "cell_type": "code",
   "execution_count": 84,
   "metadata": {
    "collapsed": true
   },
   "outputs": [],
   "source": [
    "from torch.optim import SGD\n",
    "optimizer = SGD([{'params': model.parameters()}], lr=0.1)"
   ]
  },
  {
   "cell_type": "markdown",
   "metadata": {},
   "source": [
    "### Fit model hyperparameters and noise level\n",
    "Now we are ready to write our optimization loop. We will perform 100 epochs of stochastic gradient descent using our entire training set."
   ]
  },
  {
   "cell_type": "code",
   "execution_count": 85,
   "metadata": {},
   "outputs": [
    {
     "name": "stdout",
     "output_type": "stream",
     "text": [
      "Epoch 1/100 - Loss:1.534 lengthscale: 0.693  noise: 0.693\n",
      "Epoch 2/100 - Loss:1.527 lengthscale: 0.688  noise: 0.682\n",
      "Epoch 3/100 - Loss:1.518 lengthscale: 0.681  noise: 0.669\n",
      "Epoch 4/100 - Loss:1.51 lengthscale: 0.673  noise: 0.657\n",
      "Epoch 5/100 - Loss:1.501 lengthscale: 0.666  noise: 0.645\n",
      "Epoch 6/100 - Loss:1.492 lengthscale: 0.659  noise: 0.633\n",
      "Epoch 7/100 - Loss:1.485 lengthscale: 0.653  noise: 0.622\n",
      "Epoch 8/100 - Loss:1.477 lengthscale: 0.646  noise: 0.611\n",
      "Epoch 9/100 - Loss:1.468 lengthscale: 0.639  noise: 0.599\n",
      "Epoch 10/100 - Loss:1.46 lengthscale: 0.633  noise: 0.588\n",
      "Epoch 11/100 - Loss:1.452 lengthscale: 0.627  noise: 0.577\n",
      "Epoch 12/100 - Loss:1.443 lengthscale: 0.62  noise: 0.565\n",
      "Epoch 13/100 - Loss:1.435 lengthscale: 0.614  noise: 0.555\n",
      "Epoch 14/100 - Loss:1.427 lengthscale: 0.608  noise: 0.545\n",
      "Epoch 15/100 - Loss:1.419 lengthscale: 0.602  noise: 0.535\n",
      "Epoch 16/100 - Loss:1.41 lengthscale: 0.596  noise: 0.524\n",
      "Epoch 17/100 - Loss:1.401 lengthscale: 0.589  noise: 0.513\n",
      "Epoch 18/100 - Loss:1.392 lengthscale: 0.582  noise: 0.503\n",
      "Epoch 19/100 - Loss:1.385 lengthscale: 0.578  noise: 0.494\n",
      "Epoch 20/100 - Loss:1.376 lengthscale: 0.572  noise: 0.484\n",
      "Epoch 21/100 - Loss:1.366 lengthscale: 0.564  noise: 0.474\n",
      "Epoch 22/100 - Loss:1.358 lengthscale: 0.559  noise: 0.465\n",
      "Epoch 23/100 - Loss:1.35 lengthscale: 0.551  noise: 0.456\n",
      "Epoch 24/100 - Loss:1.34 lengthscale: 0.545  noise: 0.447\n",
      "Epoch 25/100 - Loss:1.331 lengthscale: 0.54  noise: 0.437\n",
      "Epoch 26/100 - Loss:1.321 lengthscale: 0.531  noise: 0.428\n",
      "Epoch 27/100 - Loss:1.312 lengthscale: 0.526  noise: 0.419\n",
      "Epoch 28/100 - Loss:1.304 lengthscale: 0.522  noise: 0.411\n",
      "Epoch 29/100 - Loss:1.296 lengthscale: 0.517  noise: 0.403\n",
      "Epoch 30/100 - Loss:1.287 lengthscale: 0.512  noise: 0.394\n",
      "Epoch 31/100 - Loss:1.277 lengthscale: 0.506  noise: 0.386\n",
      "Epoch 32/100 - Loss:1.267 lengthscale: 0.5  noise: 0.377\n",
      "Epoch 33/100 - Loss:1.257 lengthscale: 0.494  noise: 0.368\n",
      "Epoch 34/100 - Loss:1.247 lengthscale: 0.488  noise: 0.36\n",
      "Epoch 35/100 - Loss:1.236 lengthscale: 0.481  noise: 0.351\n",
      "Epoch 36/100 - Loss:1.225 lengthscale: 0.474  noise: 0.343\n",
      "Epoch 37/100 - Loss:1.214 lengthscale: 0.468  noise: 0.335\n",
      "Epoch 38/100 - Loss:1.204 lengthscale: 0.463  noise: 0.328\n",
      "Epoch 39/100 - Loss:1.193 lengthscale: 0.457  noise: 0.32\n",
      "Epoch 40/100 - Loss:1.182 lengthscale: 0.451  noise: 0.311\n",
      "Epoch 41/100 - Loss:1.171 lengthscale: 0.445  noise: 0.305\n",
      "Epoch 42/100 - Loss:1.16 lengthscale: 0.439  noise: 0.297\n",
      "Epoch 43/100 - Loss:1.148 lengthscale: 0.433  noise: 0.289\n",
      "Epoch 44/100 - Loss:1.136 lengthscale: 0.426  noise: 0.282\n",
      "Epoch 45/100 - Loss:1.123 lengthscale: 0.42  noise: 0.274\n",
      "Epoch 46/100 - Loss:1.112 lengthscale: 0.415  noise: 0.267\n",
      "Epoch 47/100 - Loss:1.1 lengthscale: 0.409  noise: 0.26\n",
      "Epoch 48/100 - Loss:1.088 lengthscale: 0.403  noise: 0.253\n",
      "Epoch 49/100 - Loss:1.076 lengthscale: 0.397  noise: 0.246\n",
      "Epoch 50/100 - Loss:1.065 lengthscale: 0.393  noise: 0.24\n",
      "Epoch 51/100 - Loss:1.053 lengthscale: 0.386  noise: 0.234\n",
      "Epoch 52/100 - Loss:1.042 lengthscale: 0.383  noise: 0.228\n",
      "Epoch 53/100 - Loss:1.03 lengthscale: 0.377  noise: 0.221\n",
      "Epoch 54/100 - Loss:1.017 lengthscale: 0.373  noise: 0.215\n",
      "Epoch 55/100 - Loss:1.004 lengthscale: 0.369  noise: 0.208\n",
      "Epoch 56/100 - Loss:0.992 lengthscale: 0.365  noise: 0.202\n",
      "Epoch 57/100 - Loss:0.981 lengthscale: 0.361  noise: 0.197\n",
      "Epoch 58/100 - Loss:0.97 lengthscale: 0.358  noise: 0.191\n",
      "Epoch 59/100 - Loss:0.957 lengthscale: 0.353  noise: 0.185\n",
      "Epoch 60/100 - Loss:0.948 lengthscale: 0.35  noise: 0.181\n",
      "Epoch 61/100 - Loss:0.936 lengthscale: 0.347  noise: 0.175\n",
      "Epoch 62/100 - Loss:0.924 lengthscale: 0.343  noise: 0.17\n",
      "Epoch 63/100 - Loss:0.914 lengthscale: 0.343  noise: 0.165\n",
      "Epoch 64/100 - Loss:0.905 lengthscale: 0.341  noise: 0.161\n",
      "Epoch 65/100 - Loss:0.893 lengthscale: 0.339  noise: 0.156\n",
      "Epoch 66/100 - Loss:0.882 lengthscale: 0.338  noise: 0.152\n",
      "Epoch 67/100 - Loss:0.871 lengthscale: 0.336  noise: 0.147\n",
      "Epoch 68/100 - Loss:0.86 lengthscale: 0.335  noise: 0.143\n",
      "Epoch 69/100 - Loss:0.85 lengthscale: 0.333  noise: 0.139\n",
      "Epoch 70/100 - Loss:0.839 lengthscale: 0.331  noise: 0.134\n",
      "Epoch 71/100 - Loss:0.828 lengthscale: 0.33  noise: 0.13\n",
      "Epoch 72/100 - Loss:0.817 lengthscale: 0.328  noise: 0.126\n",
      "Epoch 73/100 - Loss:0.807 lengthscale: 0.328  noise: 0.123\n",
      "Epoch 74/100 - Loss:0.796 lengthscale: 0.326  noise: 0.119\n",
      "Epoch 75/100 - Loss:0.786 lengthscale: 0.325  noise: 0.115\n",
      "Epoch 76/100 - Loss:0.777 lengthscale: 0.326  noise: 0.112\n",
      "Epoch 77/100 - Loss:0.767 lengthscale: 0.326  noise: 0.109\n",
      "Epoch 78/100 - Loss:0.756 lengthscale: 0.325  noise: 0.106\n",
      "Epoch 79/100 - Loss:0.745 lengthscale: 0.323  noise: 0.102\n",
      "Epoch 80/100 - Loss:0.733 lengthscale: 0.32  noise: 0.099\n",
      "Epoch 81/100 - Loss:0.723 lengthscale: 0.319  noise: 0.096\n",
      "Epoch 82/100 - Loss:0.712 lengthscale: 0.317  noise: 0.093\n",
      "Epoch 83/100 - Loss:0.703 lengthscale: 0.316  noise: 0.09\n",
      "Epoch 84/100 - Loss:0.693 lengthscale: 0.316  noise: 0.087\n",
      "Epoch 85/100 - Loss:0.685 lengthscale: 0.318  noise: 0.085\n",
      "Epoch 86/100 - Loss:0.676 lengthscale: 0.317  noise: 0.083\n",
      "Epoch 87/100 - Loss:0.667 lengthscale: 0.318  noise: 0.081\n",
      "Epoch 88/100 - Loss:0.658 lengthscale: 0.319  noise: 0.078\n",
      "Epoch 89/100 - Loss:0.65 lengthscale: 0.318  noise: 0.076\n",
      "Epoch 90/100 - Loss:0.642 lengthscale: 0.319  noise: 0.074\n",
      "Epoch 91/100 - Loss:0.632 lengthscale: 0.316  noise: 0.072\n",
      "Epoch 92/100 - Loss:0.624 lengthscale: 0.315  noise: 0.07\n",
      "Epoch 93/100 - Loss:0.614 lengthscale: 0.313  noise: 0.068\n",
      "Epoch 94/100 - Loss:0.605 lengthscale: 0.313  noise: 0.066\n",
      "Epoch 95/100 - Loss:0.595 lengthscale: 0.312  noise: 0.064\n",
      "Epoch 96/100 - Loss:0.587 lengthscale: 0.312  noise: 0.062\n",
      "Epoch 97/100 - Loss:0.578 lengthscale: 0.311  noise: 0.061\n",
      "Epoch 98/100 - Loss:0.569 lengthscale: 0.312  noise: 0.059\n",
      "Epoch 99/100 - Loss:0.561 lengthscale: 0.31  noise: 0.057\n",
      "Epoch 100/100 - Loss:0.554 lengthscale: 0.309  noise: 0.056\n"
     ]
    }
   ],
   "source": [
    "NUM_EPOCHS = 100\n",
    "\n",
    "model.train()\n",
    "model.likelihood.train()\n",
    "\n",
    "for epoch in range(NUM_EPOCHS):\n",
    "    # clear gradients\n",
    "    optimizer.zero_grad()\n",
    "    # forward pass through the model to obtain the output MultivariateNormal\n",
    "    output = model(train_X)\n",
    "    # Compute negative marginal log likelihood\n",
    "    loss = -mll(output, train_Y)\n",
    "    # back prop gradients\n",
    "    loss.backward()\n",
    "    print(\n",
    "        f\"Epoch {epoch + 1}/{NUM_EPOCHS} - Loss:{round(loss.item(),3)} \"\n",
    "        f\"lengthscale: {round(model.covar_module.base_kernel.lengthscale.item(), 3)} \" \n",
    "        f\" noise: {round(model.likelihood.noise.item(),3)}\" \n",
    "     )\n",
    "    optimizer.step()"
   ]
  },
  {
   "cell_type": "markdown",
   "metadata": {},
   "source": [
    "### Compute posterior over test points and plot fit\n",
    "We plot the posterior mean and the 2 standard deviations from the mean."
   ]
  },
  {
   "cell_type": "code",
   "execution_count": 86,
   "metadata": {},
   "outputs": [
    {
     "data": {
      "text/plain": [
       "GaussianLikelihood(\n",
       "  (noise_covar): HomoskedasticNoise(\n",
       "    (noise_prior): GammaPrior()\n",
       "  )\n",
       ")"
      ]
     },
     "execution_count": 86,
     "metadata": {
      "bento_obj_id": "139963786565224"
     },
     "output_type": "execute_result"
    }
   ],
   "source": [
    "# set model and likelihood to eval mode\n",
    "model.eval()\n",
    "model.likelihood.eval()"
   ]
  },
  {
   "cell_type": "code",
   "execution_count": 87,
   "metadata": {},
   "outputs": [
    {
     "data": {
      "text/plain": [
       "<matplotlib.legend.Legend at 0x7f4bda58edd8>"
      ]
     },
     "execution_count": 87,
     "metadata": {
      "bento_obj_id": "139963762535896"
     },
     "output_type": "execute_result"
    },
    {
     "data": {
      "image/png": "[encoded data removed]",
      "text/plain": [
       "<Figure size 288x216 with 1 Axes>"
      ]
     },
     "metadata": {
      "bento_obj_id": "139963762954592"
     },
     "output_type": "display_data"
    }
   ],
   "source": [
    "# Initialize plot\n",
    "f, ax = plt.subplots(1, 1, figsize=(4, 3))\n",
    "# test model on 101 regular spaced points on the interval [0, 1]\n",
    "test_X = torch.linspace(0, 1, 101, dtype=dtype, device=device)\n",
    "# no need for gradients\n",
    "with torch.no_grad():\n",
    "    # compute posterior\n",
    "    posterior = model.posterior(test_X)\n",
    "    # Get upper and lower confidence bounds (2 standard deviations from the mean)\n",
    "    lower, upper = posterior.mvn.confidence_region()\n",
    "    # Plot training points as black stars\n",
    "    ax.plot(train_X.cpu().numpy(), train_Y.cpu().numpy(), 'k*')\n",
    "    # Plot posterior means as blue line\n",
    "    ax.plot(test_X.cpu().numpy(), posterior.mean.cpu().numpy(), 'b')\n",
    "    # Shade between the lower and upper confidence bounds\n",
    "    ax.fill_between(test_X.cpu().numpy(), lower.cpu().numpy(), upper.cpu().numpy(), alpha=0.5)\n",
    "ax.legend(['Observed Data', 'Mean', 'Confidence'])"
   ]
  },
  {
   "cell_type": "code",
   "execution_count": null,
   "metadata": {
    "collapsed": true
   },
   "outputs": [],
   "source": []
  }
 ],
 "metadata": {
  "anaconda-cloud": {},
  "bento_stylesheets": {
   "bento/extensions/flow/main.css": true,
   "bento/extensions/kernel_selector/main.css": true,
   "bento/extensions/kernel_ui/main.css": true,
   "bento/extensions/new_kernel/main.css": true,
   "bento/extensions/system_usage/main.css": true,
   "bento/extensions/theme/main.css": true
  },
  "disseminate_notebook_id": {
   "notebook_id": "2116343538472848"
  },
  "disseminate_notebook_info": {
   "bento_version": "20190318-030220",
   "cell_hash": "30f8023f1cbed7bd25aa390208a7c8e9",
   "description": "",
   "hide_code": false,
   "hipster_group": "",
   "kernel_build_info": {
    "error": "The file located at '/data/users/sdaulton/fbsource/fbcode/bento/kernels/local/ae_experimental/TARGETS' could not be found."
   },
   "no_uii": false,
   "notebook_number": "74068",
   "others_can_edit": false,
   "revision_id": "2206669962727855",
   "tags": "",
   "tasks": "",
   "title": "fit_model_with_torch_optimizer"
  },
  "kernelspec": {
   "display_name": "ae_experimental (local)",
   "language": "python",
   "name": "ae_experimental_local"
  },
  "language_info": {
   "codemirror_mode": {
    "name": "ipython",
    "version": 3
   },
   "file_extension": ".py",
   "mimetype": "text/x-python",
   "name": "python",
   "nbconvert_exporter": "python",
   "pygments_lexer": "ipython3",
   "version": "3.6.3rc1+"
  }
 },
 "nbformat": 4,
 "nbformat_minor": 1
}
