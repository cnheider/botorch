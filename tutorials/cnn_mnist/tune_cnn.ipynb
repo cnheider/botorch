{
 "cells": [
  {
   "cell_type": "markdown",
   "metadata": {},
   "source": [
    "# Tune Learning Rate for CNN on MNIST\n",
    "\n",
    "This example walks through using botorch to tune the learning rate for a Convolution Neural Network on the MNIST dataset."
   ]
  },
  {
   "cell_type": "code",
   "execution_count": 1,
   "metadata": {
    "collapsed": true
   },
   "outputs": [],
   "source": [
    "# make sure cnn.py is in our sys.path\n",
    "import os\n",
    "import sys\n",
    "\n",
    "sys.path.append(os.getcwd())"
   ]
  },
  {
   "cell_type": "code",
   "execution_count": 2,
   "metadata": {
    "collapsed": true
   },
   "outputs": [],
   "source": [
    "from typing import Dict, Tuple\n",
    "import torch\n",
    "import matplotlib.pyplot as plt\n",
    "import numpy as np\n",
    "from torch import Tensor\n",
    "from torch.utils.data import DataLoader\n",
    "from cnn import load_mnist, CNN, train, evaluate\n",
    "from gpytorch.settings import fast_pred_var\n",
    "%matplotlib inline"
   ]
  },
  {
   "cell_type": "code",
   "execution_count": 3,
   "metadata": {
    "collapsed": true
   },
   "outputs": [],
   "source": [
    "dtype = torch.float\n",
    "device = torch.device(\"cuda\" if torch.cuda.is_available() else \"cpu\")"
   ]
  },
  {
   "cell_type": "markdown",
   "metadata": {},
   "source": [
    "## Load MNIST data\n",
    "First, we need to load the MNIST data and partition it into training, validation, and test set.\n",
    "\n",
    "Note: this will download the dataset if necessary."
   ]
  },
  {
   "cell_type": "code",
   "execution_count": 4,
   "metadata": {
    "collapsed": true
   },
   "outputs": [],
   "source": [
    "train_loader, valid_loader, test_loader = load_mnist()"
   ]
  },
  {
   "cell_type": "markdown",
   "metadata": {},
   "source": [
    "## Define function to optimize\n",
    "We need to define the function we want to optimize. In this case, we want to optimize learning rates classification accuracy on the validation set as a function of the learning rate. In addition to a tensor `X` with the parameter values (learning rates), we include additional arguments for DataLoaders for the training and evaluation sets so that this function can be reused to for a final evaluation on the test set.\n",
    "\n",
    "Note: we define `train_evaluate` to take a tensor of `(q) x 1` points so that we can support q-batch evaluation. "
   ]
  },
  {
   "cell_type": "code",
   "execution_count": 5,
   "metadata": {
    "collapsed": true
   },
   "outputs": [],
   "source": [
    "def train_evaluate(X: Tensor, train_loader: DataLoader, eval_loader: DataLoader) -> Tensor:\n",
    "    if X.dim() == 1:\n",
    "        X = X.unsqueeze(0)\n",
    "    q = X.shape[0]\n",
    "    accuracies = torch.empty(q, dtype=X.dtype, device=X.device)\n",
    "    for i in range(q):\n",
    "        params = {\"lr\": X[i].item()}\n",
    "        net = train(\n",
    "            train_loader=train_loader, \n",
    "            params=params,\n",
    "            dtype=dtype,\n",
    "            device=device,\n",
    "        )\n",
    "        accuracies[i] = evaluate(\n",
    "            net=net,\n",
    "            data_loader=eval_loader,\n",
    "            dtype=dtype,\n",
    "            device=device,\n",
    "        )\n",
    "    return accuracies"
   ]
  },
  {
   "cell_type": "markdown",
   "metadata": {},
   "source": [
    "## Setup optimization"
   ]
  },
  {
   "cell_type": "code",
   "execution_count": 6,
   "metadata": {
    "collapsed": true
   },
   "outputs": [],
   "source": [
    "from botorch.models.gp_regression import SingleTaskGP\n",
    "from botorch.acquisition.monte_carlo import qNoisyExpectedImprovement\n",
    "from botorch.acquisition.sampler import SobolQMCNormalSampler\n",
    "from botorch.optim.optimize import sequential_optimize\n",
    "from botorch.fit import fit_model\n",
    "from botorch.utils import draw_sobol_samples\n",
    "from gpytorch.mlls import ExactMarginalLogLikelihood"
   ]
  },
  {
   "cell_type": "code",
   "execution_count": 7,
   "metadata": {
    "collapsed": true
   },
   "outputs": [],
   "source": [
    "INITIAL_POINTS = 5  # number of initial quasi-random points\n",
    "SEED = 812151  # random seed\n",
    "NUM_RANDOM_RESTARTS = 20  # number of starting points for multi-start optimization\n",
    "NUM_RAW_SAMPLES = 10000  # Number of points to evaluate for selecting initial conditions\n",
    "NUM_ROUNDS = 10  # number of iterations of bayesian optimization\n",
    "MC_SAMPLES = 500 # number of (q)MC samples for approximating the acquisition function\n",
    "Q = 1  # q-batch size"
   ]
  },
  {
   "cell_type": "code",
   "execution_count": 8,
   "metadata": {
    "collapsed": true
   },
   "outputs": [],
   "source": [
    "# set log-transformed bounds on the learning rate \n",
    "log_bounds = torch.log(torch.tensor([[1e-6], [0.3]], dtype=dtype, device=device))"
   ]
  },
  {
   "cell_type": "markdown",
   "metadata": {},
   "source": [
    "## Draw and evaluate initial points\n",
    "We start by drawing initial points from space filling design (Sobol sequence) in a log-transformed space. We then evaluate the initial points by training a model and computing the validation accuracy."
   ]
  },
  {
   "cell_type": "code",
   "execution_count": 9,
   "metadata": {
    "collapsed": true
   },
   "outputs": [],
   "source": [
    "# Draw points (log scale)\n",
    "X = draw_sobol_samples(\n",
    "    bounds=log_bounds,\n",
    "    n=1,\n",
    "    q=INITIAL_POINTS,\n",
    "    seed=SEED,\n",
    ").squeeze(0)\n",
    "\n",
    "# Evaluate points\n",
    "Y = train_evaluate(torch.exp(X), train_loader=train_loader, eval_loader=valid_loader)"
   ]
  },
  {
   "cell_type": "markdown",
   "metadata": {},
   "source": [
    "## Bayesian Optimization with q-Expected Improvement\n"
   ]
  },
  {
   "cell_type": "code",
   "execution_count": 10,
   "metadata": {
    "scrolled": true
   },
   "outputs": [
    {
     "name": "stdout",
     "output_type": "stream",
     "text": [
      "---- Starting iteration 1\n",
      "---- Fitting model\n",
      "---- Optimizing acquisition function\n"
     ]
    },
    {
     "name": "stderr",
     "output_type": "stream",
     "text": [
      "/data/users/sdaulton/fbsource/fbcode/buck-out/dev/gen/experimental/ae/bento_kernel_ae_experimental#link-tree/gpytorch/utils/cholesky.py:41: RuntimeWarning:\n",
      "\n",
      "A not p.d., added jitter of 1e-06 to the diagonal\n",
      "\n"
     ]
    },
    {
     "name": "stdout",
     "output_type": "stream",
     "text": [
      "---- Evaluating ----\n",
      "---- Starting iteration 2\n",
      "---- Fitting model\n",
      "---- Optimizing acquisition function\n"
     ]
    },
    {
     "name": "stderr",
     "output_type": "stream",
     "text": [
      "/data/users/sdaulton/fbsource/fbcode/buck-out/dev/gen/experimental/ae/bento_kernel_ae_experimental#link-tree/gpytorch/utils/cholesky.py:41: RuntimeWarning:\n",
      "\n",
      "A not p.d., added jitter of 1e-06 to the diagonal\n",
      "\n"
     ]
    },
    {
     "name": "stdout",
     "output_type": "stream",
     "text": [
      "---- Evaluating ----\n",
      "---- Starting iteration 3\n",
      "---- Fitting model\n",
      "---- Optimizing acquisition function\n",
      "---- Evaluating ----\n",
      "---- Starting iteration 4\n",
      "---- Fitting model\n",
      "---- Optimizing acquisition function\n",
      "---- Evaluating ----\n",
      "---- Starting iteration 5\n",
      "---- Fitting model\n",
      "---- Optimizing acquisition function\n"
     ]
    },
    {
     "name": "stderr",
     "output_type": "stream",
     "text": [
      "/data/users/sdaulton/fbsource/fbcode/buck-out/dev/gen/experimental/ae/bento_kernel_ae_experimental#link-tree/gpytorch/utils/cholesky.py:41: RuntimeWarning:\n",
      "\n",
      "A not p.d., added jitter of 1e-06 to the diagonal\n",
      "\n"
     ]
    },
    {
     "name": "stdout",
     "output_type": "stream",
     "text": [
      "---- Evaluating ----\n",
      "---- Starting iteration 6\n",
      "---- Fitting model\n",
      "---- Optimizing acquisition function\n",
      "---- Evaluating ----\n",
      "---- Starting iteration 7\n",
      "---- Fitting model\n",
      "---- Optimizing acquisition function\n"
     ]
    },
    {
     "name": "stderr",
     "output_type": "stream",
     "text": [
      "/data/users/sdaulton/fbsource/fbcode/buck-out/dev/gen/experimental/ae/bento_kernel_ae_experimental#link-tree/gpytorch/utils/cholesky.py:41: RuntimeWarning:\n",
      "\n",
      "A not p.d., added jitter of 1e-06 to the diagonal\n",
      "\n"
     ]
    },
    {
     "name": "stdout",
     "output_type": "stream",
     "text": [
      "---- Evaluating ----\n",
      "---- Starting iteration 8\n",
      "---- Fitting model\n",
      "---- Optimizing acquisition function\n"
     ]
    },
    {
     "name": "stderr",
     "output_type": "stream",
     "text": [
      "/data/users/sdaulton/fbsource/fbcode/buck-out/dev/gen/experimental/ae/bento_kernel_ae_experimental#link-tree/gpytorch/utils/cholesky.py:41: RuntimeWarning:\n",
      "\n",
      "A not p.d., added jitter of 1e-06 to the diagonal\n",
      "\n"
     ]
    },
    {
     "name": "stdout",
     "output_type": "stream",
     "text": [
      "---- Evaluating ----\n",
      "---- Starting iteration 9\n",
      "---- Fitting model\n",
      "---- Optimizing acquisition function\n"
     ]
    },
    {
     "name": "stderr",
     "output_type": "stream",
     "text": [
      "/data/users/sdaulton/fbsource/fbcode/buck-out/dev/gen/experimental/ae/bento_kernel_ae_experimental#link-tree/gpytorch/utils/cholesky.py:41: RuntimeWarning:\n",
      "\n",
      "A not p.d., added jitter of 1e-06 to the diagonal\n",
      "\n"
     ]
    },
    {
     "name": "stdout",
     "output_type": "stream",
     "text": [
      "---- Evaluating ----\n",
      "---- Starting iteration 10\n",
      "---- Fitting model\n",
      "---- Optimizing acquisition function\n"
     ]
    },
    {
     "name": "stderr",
     "output_type": "stream",
     "text": [
      "/data/users/sdaulton/fbsource/fbcode/buck-out/dev/gen/experimental/ae/bento_kernel_ae_experimental#link-tree/gpytorch/utils/cholesky.py:41: RuntimeWarning:\n",
      "\n",
      "A not p.d., added jitter of 1e-06 to the diagonal\n",
      "\n"
     ]
    },
    {
     "name": "stdout",
     "output_type": "stream",
     "text": [
      "---- Evaluating ----\n"
     ]
    }
   ],
   "source": [
    "for i in range(NUM_ROUNDS):\n",
    "    print(f\"---- Starting iteration {i+1}\")\n",
    "    \n",
    "    # Scale inputs to [0,1]\n",
    "    train_X = (X - log_bounds[0])/(log_bounds[1]-log_bounds[0])\n",
    "    \n",
    "    # Transform targets to N(0,1)\n",
    "    train_Y = (Y - Y.mean())/max(Y.std(), 1e-8)\n",
    "    \n",
    "    # Define model\n",
    "    model = SingleTaskGP(train_X=train_X, train_Y=train_Y)\n",
    "    \n",
    "    # Fit model\n",
    "    print(\"---- Fitting model\")\n",
    "    mll = ExactMarginalLogLikelihood(model.likelihood, model)\n",
    "    mll.to(dtype=dtype, device=device)\n",
    "    mll = fit_model(mll)\n",
    "    \n",
    "    # Define sampler\n",
    "    sampler = SobolQMCNormalSampler(num_samples=MC_SAMPLES)\n",
    "    \n",
    "    # Define acquisition function\n",
    "    acq_function = qNoisyExpectedImprovement(\n",
    "        model=model,\n",
    "        X_baseline=train_X,\n",
    "        sampler=sampler,\n",
    "    )\n",
    "    # Optimize acquisition function\n",
    "    print(\"---- Optimizing acquisition function\")\n",
    "    candidates = sequential_optimize(\n",
    "        acq_function=acq_function,\n",
    "        bounds=torch.tensor([[0.0], [1.0]], dtype=dtype, device=device),\n",
    "        n=Q,\n",
    "        raw_samples=NUM_RAW_SAMPLES,\n",
    "        num_restarts=NUM_RANDOM_RESTARTS,\n",
    "        options={},\n",
    "    )\n",
    "    X_new = candidates * (log_bounds[1]-log_bounds[0]) + log_bounds[0]\n",
    "    # Evaluate points\n",
    "    print(\"---- Evaluating ----\")\n",
    "    Y_new = train_evaluate(torch.exp(X_new), train_loader=train_loader, eval_loader=valid_loader)\n",
    "    \n",
    "    X = torch.cat([X, X_new], dim=0)\n",
    "    Y = torch.cat([Y, Y_new], dim=0)\n",
    "    "
   ]
  },
  {
   "cell_type": "markdown",
   "metadata": {},
   "source": [
    "## Identify best parameter setting\n",
    "Let's select the point with the highest classification accuracy."
   ]
  },
  {
   "cell_type": "code",
   "execution_count": 11,
   "metadata": {},
   "outputs": [
    {
     "name": "stdout",
     "output_type": "stream",
     "text": [
      "Best Point:\n",
      "    \"lr\": 0.002335\n",
      "\n",
      "Classification Accuracy: 96.92%\n",
      "\n"
     ]
    }
   ],
   "source": [
    "best_objective, best_idx = Y.max(dim=0)\n",
    "print(f\"\"\"Best Point:\n",
    "    \"lr\": {round(torch.exp(X[best_idx]).item(), 6)}\n",
    "\"\"\")\n",
    "print(f\"Classification Accuracy: {round(best_objective.item()*100, 2)}%\\n\")"
   ]
  },
  {
   "cell_type": "markdown",
   "metadata": {},
   "source": [
    "## Plot best objective as function of the iteration"
   ]
  },
  {
   "cell_type": "code",
   "execution_count": 12,
   "metadata": {},
   "outputs": [
    {
     "data": {
      "text/plain": [
       "Text(0,0.5,'Classification Accuracy')"
      ]
     },
     "execution_count": 12,
     "metadata": {
      "bento_obj_id": "140523910869288"
     },
     "output_type": "execute_result"
    },
    {
     "data": {
      "image/png": "[encoded data removed]",
      "text/plain": [
       "<Figure size 864x720 with 1 Axes>"
      ]
     },
     "metadata": {
      "bento_obj_id": "140523911517072"
     },
     "output_type": "display_data"
    }
   ],
   "source": [
    "fig, ax = plt.subplots(1, figsize=(12,10))\n",
    "fontdict = {\"size\": 20}\n",
    "ax.plot(\n",
    "    list(range(Y.shape[0])),\n",
    "    np.maximum.accumulate(Y.cpu().numpy())*100,\n",
    "    alpha=0.7,\n",
    "    lw=3,\n",
    "    label=\"Best observed value\"\n",
    ")\n",
    "ax.axvline(x=INITIAL_POINTS, lw=3, ls='--', color='orange', label='Bayesian Optimization')\n",
    "ax.legend(loc=\"lower right\", prop=fontdict)\n",
    "ax.set_xlabel(\"Iteration\", fontdict=fontdict)\n",
    "ax.set_ylabel(\"Classification Accuracy\", fontdict=fontdict)\n",
    "\n"
   ]
  },
  {
   "cell_type": "markdown",
   "metadata": {},
   "source": [
    "## Plot response surface\n",
    "Let's inspect the response surface. Here, the response surface is our classification accuracy as a function of the learning rate."
   ]
  },
  {
   "cell_type": "code",
   "execution_count": 13,
   "metadata": {
    "collapsed": true
   },
   "outputs": [],
   "source": [
    "# Scale inputs to [0,1]\n",
    "train_X = (X - log_bounds[0])/(log_bounds[1]-log_bounds[0])\n",
    "\n",
    "# Transform targets to N(0,1)\n",
    "Y_mean = Y.mean()\n",
    "Y_std = max(Y.std(), 1e-8)\n",
    "train_Y = (Y - Y_mean)/Y_std\n",
    "\n",
    "# Fit model to all observations\n",
    "model = SingleTaskGP(train_X=train_X, train_Y=train_Y)\n",
    "mll = ExactMarginalLogLikelihood(model.likelihood, model)\n",
    "mll.to(dtype=dtype, device=device)\n",
    "mll = fit_model(mll)"
   ]
  },
  {
   "cell_type": "code",
   "execution_count": 17,
   "metadata": {},
   "outputs": [
    {
     "data": {
      "image/png": "[encoded data removed]",
      "text/plain": [
       "<Figure size 864x720 with 1 Axes>"
      ]
     },
     "metadata": {
      "bento_obj_id": "140523910687880"
     },
     "output_type": "display_data"
    }
   ],
   "source": [
    "with torch.no_grad():\n",
    "    # create points within the bounds\n",
    "    test_X = torch.linspace(\n",
    "        log_bounds[0].item(), \n",
    "        log_bounds[1].item(), \n",
    "        101, \n",
    "        dtype=dtype, \n",
    "        device=device\n",
    "    )\n",
    "    test_X_scaled = (test_X - log_bounds[0])/(log_bounds[1]-log_bounds[0])\n",
    "    # evaluate posterior\n",
    "    f_pred = model.posterior(test_X_scaled.view(-1,1))\n",
    "    fig, ax = plt.subplots(1, figsize=(12,10))\n",
    "    # Get upper and lower confidence bounds\n",
    "    lower, upper = f_pred.mvn.confidence_region()\n",
    "    lower = lower * Y_std + Y_mean\n",
    "    upper = upper * Y_std + Y_mean\n",
    "    f_mean = f_pred.mean * Y_std + Y_mean\n",
    "    # Plot training data as black stars\n",
    "    ax.plot(torch.exp(X).cpu().numpy(), Y.cpu().numpy(), 'k*')\n",
    "    # Plot predictive means as blue line\n",
    "    ax.plot(torch.exp(test_X).cpu().numpy(), f_mean.cpu().numpy(), 'b')\n",
    "    # Shade between the lower and upper confidence bounds\n",
    "    ax.fill_between(torch.exp(test_X).cpu().numpy(), lower.cpu().numpy(), upper.cpu().numpy(), alpha=0.5)\n",
    "    ax.set_xscale(\"log\")\n",
    "    ax.legend(['Observed Data', 'Mean', 'Confidence'])\n",
    "    ax.set_xlabel(\"Learning Rate\", fontdict=fontdict)\n",
    "    ax.set_ylabel(\"Classification Accuracy\", fontdict=fontdict)"
   ]
  },
  {
   "cell_type": "markdown",
   "metadata": {},
   "source": [
    "## Train CNN with best parameters and evaluate on test set"
   ]
  },
  {
   "cell_type": "code",
   "execution_count": 15,
   "metadata": {
    "collapsed": true
   },
   "outputs": [],
   "source": [
    "test_accuracy = train_evaluate(torch.exp(X[best_idx]), train_loader=train_loader, eval_loader=test_loader)"
   ]
  },
  {
   "cell_type": "code",
   "execution_count": 16,
   "metadata": {},
   "outputs": [
    {
     "name": "stdout",
     "output_type": "stream",
     "text": [
      "Classification Accuracy (test set): 97.02%\n"
     ]
    }
   ],
   "source": [
    "print(f\"Classification Accuracy (test set): {round(test_accuracy.item()*100, 2)}%\")"
   ]
  },
  {
   "cell_type": "code",
   "execution_count": null,
   "metadata": {
    "collapsed": true
   },
   "outputs": [],
   "source": []
  }
 ],
 "metadata": {
  "bento_stylesheets": {
   "bento/extensions/flow/main.css": true,
   "bento/extensions/kernel_selector/main.css": true,
   "bento/extensions/kernel_ui/main.css": true,
   "bento/extensions/new_kernel/main.css": true,
   "bento/extensions/system_usage/main.css": true,
   "bento/extensions/theme/main.css": true
  },
  "disseminate_notebook_id": {
   "notebook_id": "289006341794588"
  },
  "disseminate_notebook_info": {
   "bento_version": "20190318-030220",
   "cell_hash": "6525c0e1c95ff42ca6721cf9124ca66c",
   "description": "",
   "hide_code": false,
   "hipster_group": "",
   "kernel_build_info": {
    "error": "The file located at '/data/users/sdaulton/fbsource/fbcode/bento/kernels/local/ae_experimental/TARGETS' could not be found."
   },
   "no_uii": false,
   "notebook_number": "66586",
   "others_can_edit": false,
   "revision_id": "261176388106198",
   "tags": "",
   "tasks": "",
   "title": "botorch_tune_cnn_on_mnist"
  },
  "kernelspec": {
   "display_name": "ae_experimental (local)",
   "language": "python",
   "name": "ae_experimental_local"
  },
  "language_info": {
   "codemirror_mode": {
    "name": "ipython",
    "version": 3
   },
   "file_extension": ".py",
   "mimetype": "text/x-python",
   "name": "python",
   "nbconvert_exporter": "python",
   "pygments_lexer": "ipython3",
   "version": "3.6.3rc1+"
  }
 },
 "nbformat": 4,
 "nbformat_minor": 2
}
