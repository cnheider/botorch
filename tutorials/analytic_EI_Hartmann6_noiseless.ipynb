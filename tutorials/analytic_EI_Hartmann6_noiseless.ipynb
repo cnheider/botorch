{
 "cells": [
  {
   "cell_type": "markdown",
   "metadata": {},
   "source": [
    "## Bayesian optimization with Analytic-EI on Hartmann6\n",
    "\n",
    "This example walks through how to perform Bayesian optimization (BO) on the 6-dimensional synthetic test function 'Hartmann6' with noiseless observations in botorch.\n",
    "\n"
   ]
  },
  {
   "cell_type": "markdown",
   "metadata": {},
   "source": [
    "#### Set up device and data type"
   ]
  },
  {
   "cell_type": "code",
   "execution_count": 1,
   "metadata": {},
   "outputs": [],
   "source": [
    "import torch\n",
    "\n",
    "# let's run this on the GPU if there is one available\n",
    "device = torch.device(\"cuda:1\") if torch.cuda.is_available() else torch.device(\"cpu\")    \n",
    "dtype = torch.float"
   ]
  },
  {
   "cell_type": "markdown",
   "metadata": {},
   "source": [
    "The Hartmann6 optimization problem is to minimize\n",
    "\n",
    "$$f(x) = -\\sum_{i=1}^4 \\alpha_i \\exp \\left( -\\sum_{j=1}^6 A_{ij} (x_j - P_{ij})^2  \\right),$$\n",
    "\n",
    "over $x \\in [0,1]^6$. The values of $\\alpha_i$, $A_{ij}$, and $P_{ij}$ can be found in `botorch/test_functions/hartmann6.py`. Since botorch assumes a maximization problem, we will attempt to maximize $-f(x)$ to achieve $\\max_{x} -f(x) = 3.32237$."
   ]
  },
  {
   "cell_type": "markdown",
   "metadata": {},
   "source": [
    "#### Set up oracle (i.e., the function to optimize) and define a random point sampler"
   ]
  },
  {
   "cell_type": "code",
   "execution_count": 2,
   "metadata": {
    "collapsed": true
   },
   "outputs": [],
   "source": [
    "from botorch.test_functions.hartmann6 import neg_hartmann6, GLOBAL_MAXIMUM\n",
    "\n",
    "DATA_DIM = 6  # the dimension of x\n",
    "MAX_VAL = GLOBAL_MAXIMUM\n",
    "\n",
    "def oracle(X):\n",
    "    \"\"\"Oracle function for generating observations, where X is a `b x 6` tensor.\n",
    "    \"\"\"\n",
    "    return neg_hartmann6(X)\n",
    "\n",
    "def gen_x(num_samples, q=1):\n",
    "    \"\"\"Generate random points in the unit cube [0, 1]^6\"\"\"\n",
    "    return torch.rand(num_samples, q, DATA_DIM, device=device)"
   ]
  },
  {
   "cell_type": "code",
   "execution_count": 3,
   "metadata": {},
   "outputs": [
    {
     "name": "stdout",
     "output_type": "stream",
     "text": [
      "3.32237\n"
     ]
    }
   ],
   "source": [
    "print(GLOBAL_MAXIMUM)"
   ]
  },
  {
   "cell_type": "markdown",
   "metadata": {},
   "source": [
    "#### Import a basic GP model, acquisition functions, and other helper functions\n",
    "\n",
    "This is the model specification of a simple GP model in gpytorch, using a constant mean, RBF Kernel with Automatic Relevance Discovery (ARD).\n",
    "\n",
    "The qEI acquisition function and several other helper functions are also imported here. We use $10$ inital points per trial (sampled using `gen_x`), a batch size of $q=5$, and $30$ batches (or iterations) per trial."
   ]
  },
  {
   "cell_type": "code",
   "execution_count": 4,
   "metadata": {
    "collapsed": true
   },
   "outputs": [],
   "source": [
    "from botorch.models import SingleTaskGP\n",
    "from botorch.acquisition import ExpectedImprovement\n",
    "from botorch.acquisition.sampler import SobolQMCNormalSampler\n",
    "from botorch.optim import joint_optimize\n",
    "from botorch import fit_gpytorch_model\n",
    "from gpytorch.mlls.exact_marginal_log_likelihood import ExactMarginalLogLikelihood\n",
    "import time\n",
    "\n",
    "INITIAL_POINTS = 10  # The number of initial random samples to take at the beginning of each trial\n",
    "BATCH_SIZE = 1  # The batch size, q\n",
    "N_BATCH = 25  # The number of batches to test for each trial\n",
    "N_TRIALS = 20  # The number of independent trials (N_TRIALS of N_BATCH iterations)"
   ]
  },
  {
   "cell_type": "markdown",
   "metadata": {},
   "source": [
    "Next, we set some optimization-related parameters. We use $1000$ (quasi)-Monte Carlo samples to approximate the acquisition function and $40$ random restarts chosen from $100$ initial candidates at each iteration."
   ]
  },
  {
   "cell_type": "code",
   "execution_count": 5,
   "metadata": {
    "collapsed": true
   },
   "outputs": [],
   "source": [
    "FIT_OPTIMIZER_ITER = 100  # Number of iterations used to fit model\n",
    "ACQ_OPTIMIZER_ITER = 100  # Number of iterations used to optimize acquisition function\n",
    "N_RESTART_CANDIDATES = 100  # Number of random from which to select restart initial points\n",
    "N_RESTARTS = 20  # Number of restarts"
   ]
  },
  {
   "cell_type": "markdown",
   "metadata": {},
   "source": [
    "#### Define a helper function that performs the essential BO step\n",
    "The Bayesian optimization 'loop' for a batch size of $q$ simply iterates the following steps:\n",
    "\n",
    "1. given a surrogate model, choose a batch of points $\\{x_1, x_2, \\ldots x_q\\}$\n",
    "2. observe $f(x)$ for each $x$ in the batch\n",
    "3. update the surrogate model.\n",
    "\n",
    "Much of the work resides in 1., where the batch is selected by optimizing an acquisition function, q-EI. The helper function below takes an acquisition function as an argument, optimizes it, and returns the batch $\\{x_1, x_2, \\ldots x_q\\}$ along with the observed function values. It also includes logic for selecting restart candidates based on the heuristic `initialize_q_batch_simple`."
   ]
  },
  {
   "cell_type": "code",
   "execution_count": 6,
   "metadata": {
    "collapsed": true
   },
   "outputs": [],
   "source": [
    "def optimize_acq_and_return_observation(acq_func):\n",
    "    \"\"\"Generates restart conditions, optimizes the acquisition function, and returns\n",
    "        a new candidate and a noisy observation at that candidate.\n",
    "    \"\"\"\n",
    "    bounds = torch.tensor([[0]*DATA_DIM, [1]*DATA_DIM], device=device, dtype=dtype)\n",
    "    candidates = joint_optimize(\n",
    "        acq_function=acq_func,\n",
    "        bounds=bounds,\n",
    "        q=BATCH_SIZE,\n",
    "        num_restarts=N_RESTARTS,\n",
    "        raw_samples=N_RESTART_CANDIDATES,\n",
    "        options={\"simple_init\": True, \"maxiter\": ACQ_OPTIMIZER_ITER},\n",
    "    )\n",
    "    # Fetch the new values \n",
    "    new_x = candidates.detach().squeeze()\n",
    "    new_y = oracle(new_x).squeeze()\n",
    "    return new_x, new_y"
   ]
  },
  {
   "cell_type": "markdown",
   "metadata": {},
   "source": [
    "#### Perform the BO loop with EI\n",
    "\n",
    "We are now ready to run the full BO loop, repeated N_TRIALS = 20 times. In each trial, we draw initial points using `gen_x` and then fit the `SingleTaskGP` using training data derived from the initial points and noiseless evaluations of $-f(x)$."
   ]
  },
  {
   "cell_type": "code",
   "execution_count": 7,
   "metadata": {},
   "outputs": [
    {
     "name": "stdout",
     "output_type": "stream",
     "text": [
      "Trial 1 of 20\n",
      "Initial sample, best_value: 0.733\n",
      "Batch  5: best_value (EI, random) = (2.04,0.83), time = 1.96\n",
      "Batch 10: best_value (EI, random) = (2.67,1.43), time = 3.66\n",
      "Batch 15: best_value (EI, random) = (3.19,1.43), time = 1.64\n",
      "Batch 20: best_value (EI, random) = (3.22,1.43), time = 0.78\n",
      "Batch 25: best_value (EI, random) = (3.28,1.43), time = 1.72\n",
      "Trial 2 of 20\n",
      "Initial sample, best_value: 1.13\n",
      "Batch  5: best_value (EI, random) = (2.85,1.13), time = 2.84\n",
      "Batch 10: best_value (EI, random) = (3.15,1.13), time = 3.74\n",
      "Batch 15: best_value (EI, random) = (3.21,1.75), time = 0.75\n",
      "Batch 20: best_value (EI, random) = (3.21,1.75), time = 2.13\n",
      "Batch 25: best_value (EI, random) = (3.22,1.75), time = 1.23\n",
      "Trial 3 of 20\n",
      "Initial sample, best_value: 0.401\n",
      "Batch  5: best_value (EI, random) = (0.64,0.64), time = 2.02\n",
      "Batch 10: best_value (EI, random) = (1.54,2.34), time = 0.81\n",
      "Batch 15: best_value (EI, random) = (2.22,2.34), time = 1.76\n",
      "Batch 20: best_value (EI, random) = (2.66,2.34), time = 1.62\n",
      "Batch 25: best_value (EI, random) = (3.25,2.34), time = 1.35\n",
      "Trial 4 of 20\n",
      "Initial sample, best_value: 0.776\n",
      "Batch  5: best_value (EI, random) = (1.98,1.90), time = 1.95\n",
      "Batch 10: best_value (EI, random) = (2.86,1.90), time = 2.66\n",
      "Batch 15: best_value (EI, random) = (3.17,1.90), time = 0.77\n",
      "Batch 20: best_value (EI, random) = (3.18,1.90), time = 2.00\n",
      "Batch 25: best_value (EI, random) = (3.18,2.13), time = 1.73\n",
      "Trial 5 of 20\n",
      "Initial sample, best_value: 0.782\n",
      "Batch  5: best_value (EI, random) = (1.04,0.78), time = 3.11\n",
      "Batch 10: best_value (EI, random) = (1.99,2.13), time = 1.71\n",
      "Batch 15: best_value (EI, random) = (3.02,2.13), time = 0.82\n",
      "Batch 20: best_value (EI, random) = (3.07,2.13), time = 1.05\n",
      "Batch 25: best_value (EI, random) = (3.28,2.13), time = 1.20\n",
      "Trial 6 of 20\n",
      "Initial sample, best_value:  1.2\n",
      "Batch  5: best_value (EI, random) = (1.87,1.20), time = 1.99\n",
      "Batch 10: best_value (EI, random) = (2.65,1.20), time = 1.53\n",
      "Batch 15: best_value (EI, random) = (2.99,1.20), time = 1.25\n",
      "Batch 20: best_value (EI, random) = (3.23,1.20), time = 1.85\n",
      "Batch 25: best_value (EI, random) = (3.25,1.20), time = 1.91\n",
      "Trial 7 of 20\n",
      "Initial sample, best_value: 1.51\n",
      "Batch  5: best_value (EI, random) = (3.04,1.51), time = 2.95\n",
      "Batch 10: best_value (EI, random) = (3.08,1.51), time = 5.18\n",
      "Batch 15: best_value (EI, random) = (3.14,1.51), time = 1.35\n",
      "Batch 20: best_value (EI, random) = (3.14,1.51), time = 0.80\n",
      "Batch 25: best_value (EI, random) = (3.14,1.51), time = 1.69\n",
      "Trial 8 of 20\n",
      "Initial sample, best_value: 1.36\n",
      "Batch  5: best_value (EI, random) = (2.08,1.36), time = 2.16\n",
      "Batch 10: best_value (EI, random) = (3.25,1.67), time = 1.84\n",
      "Batch 15: best_value (EI, random) = (3.29,1.67), time = 1.72\n",
      "Batch 20: best_value (EI, random) = (3.29,1.67), time = 0.94\n",
      "Batch 25: best_value (EI, random) = (3.31,1.67), time = 2.03\n",
      "Trial 9 of 20\n",
      "Initial sample, best_value: 0.76\n",
      "Batch  5: best_value (EI, random) = (2.89,0.97), time = 6.20\n",
      "Batch 10: best_value (EI, random) = (3.17,0.97), time = 3.47\n",
      "Batch 15: best_value (EI, random) = (3.17,0.97), time = 0.86\n",
      "Batch 20: best_value (EI, random) = (3.17,1.14), time = 1.77\n",
      "Batch 25: best_value (EI, random) = (3.18,1.14), time = 2.59\n",
      "Trial 10 of 20\n",
      "Initial sample, best_value: 0.483\n",
      "Batch  5: best_value (EI, random) = (1.16,0.48), time = 1.90\n",
      "Batch 10: best_value (EI, random) = (1.84,0.58), time = 2.15\n",
      "Batch 15: best_value (EI, random) = (2.29,0.58), time = 1.77\n",
      "Batch 20: best_value (EI, random) = (2.60,0.58), time = 1.02\n",
      "Batch 25: best_value (EI, random) = (2.88,0.58), time = 1.09\n",
      "Trial 11 of 20\n",
      "Initial sample, best_value: 0.693\n",
      "Batch  5: best_value (EI, random) = (1.52,0.69), time = 2.07\n",
      "Batch 10: best_value (EI, random) = (2.46,0.69), time = 2.76\n",
      "Batch 15: best_value (EI, random) = (3.15,0.69), time = 1.97\n",
      "Batch 20: best_value (EI, random) = (3.30,0.69), time = 1.63\n",
      "Batch 25: best_value (EI, random) = (3.31,0.69), time = 1.94\n",
      "Trial 12 of 20\n",
      "Initial sample, best_value: 0.886\n",
      "Batch  5: best_value (EI, random) = (1.69,0.89), time = 1.90\n",
      "Batch 10: best_value (EI, random) = (2.41,0.89), time = 1.98\n",
      "Batch 15: best_value (EI, random) = (3.15,0.89), time = 1.17\n",
      "Batch 20: best_value (EI, random) = (3.15,0.89), time = 1.23\n",
      "Batch 25: best_value (EI, random) = (3.27,0.89), time = 1.74\n",
      "Trial 13 of 20\n",
      "Initial sample, best_value: 0.848\n",
      "Batch  5: best_value (EI, random) = (2.30,0.85), time = 1.87\n",
      "Batch 10: best_value (EI, random) = (2.75,0.85), time = 3.34\n",
      "Batch 15: best_value (EI, random) = (3.12,0.85), time = 2.44\n",
      "Batch 20: best_value (EI, random) = (3.31,0.85), time = 1.22\n",
      "Batch 25: best_value (EI, random) = (3.31,0.85), time = 1.24\n",
      "Trial 14 of 20\n",
      "Initial sample, best_value: 0.517\n",
      "Batch  5: best_value (EI, random) = (1.13,0.99), time = 2.11\n",
      "Batch 10: best_value (EI, random) = (2.10,0.99), time = 2.48\n",
      "Batch 15: best_value (EI, random) = (2.75,0.99), time = 1.71\n",
      "Batch 20: best_value (EI, random) = (2.98,0.99), time = 1.04\n",
      "Batch 25: best_value (EI, random) = (3.10,0.99), time = 1.37\n",
      "Trial 15 of 20\n",
      "Initial sample, best_value: 0.802\n",
      "Batch  5: best_value (EI, random) = (1.83,0.81), time = 1.65\n",
      "Batch 10: best_value (EI, random) = (2.96,1.24), time = 1.94\n",
      "Batch 15: best_value (EI, random) = (3.09,1.28), time = 1.68\n",
      "Batch 20: best_value (EI, random) = (3.12,1.28), time = 1.36\n",
      "Batch 25: best_value (EI, random) = (3.12,1.28), time = 2.29\n",
      "Trial 16 of 20\n",
      "Initial sample, best_value: 1.35\n",
      "Batch  5: best_value (EI, random) = (2.10,1.35), time = 1.66\n",
      "Batch 10: best_value (EI, random) = (3.29,1.35), time = 2.85\n",
      "Batch 15: best_value (EI, random) = (3.29,1.35), time = 3.22\n",
      "Batch 20: best_value (EI, random) = (3.29,1.35), time = 1.20\n",
      "Batch 25: best_value (EI, random) = (3.32,1.35), time = 0.96\n",
      "Trial 17 of 20\n",
      "Initial sample, best_value: 0.551\n",
      "Batch  5: best_value (EI, random) = (1.51,0.55), time = 2.54\n",
      "Batch 10: best_value (EI, random) = (1.85,2.20), time = 0.88\n",
      "Batch 15: best_value (EI, random) = (2.82,2.20), time = 1.20\n",
      "Batch 20: best_value (EI, random) = (3.00,2.20), time = 0.71\n",
      "Batch 25: best_value (EI, random) = (3.14,2.20), time = 2.17\n",
      "Trial 18 of 20\n",
      "Initial sample, best_value: 2.56\n",
      "Batch  5: best_value (EI, random) = (3.08,2.56), time = 4.13\n",
      "Batch 10: best_value (EI, random) = (3.25,2.56), time = 2.61\n",
      "Batch 15: best_value (EI, random) = (3.30,2.56), time = 1.48\n",
      "Batch 20: best_value (EI, random) = (3.30,2.56), time = 1.87\n",
      "Batch 25: best_value (EI, random) = (3.31,2.56), time = 1.29\n",
      "Trial 19 of 20\n",
      "Initial sample, best_value: 1.87\n",
      "Batch  5: best_value (EI, random) = (2.30,1.87), time = 2.23\n",
      "Batch 10: best_value (EI, random) = (3.16,1.87), time = 2.83\n",
      "Batch 15: best_value (EI, random) = (3.31,1.87), time = 2.78\n",
      "Batch 20: best_value (EI, random) = (3.31,1.87), time = 1.53\n",
      "Batch 25: best_value (EI, random) = (3.31,1.87), time = 1.31\n",
      "Trial 20 of 20\n",
      "Initial sample, best_value:  1.5\n",
      "Batch  5: best_value (EI, random) = (2.21,1.50), time = 1.41\n",
      "Batch 10: best_value (EI, random) = (2.96,1.50), time = 0.79\n",
      "Batch 15: best_value (EI, random) = (3.08,1.50), time = 1.36\n",
      "Batch 20: best_value (EI, random) = (3.08,1.50), time = 1.04\n",
      "Batch 25: best_value (EI, random) = (3.08,1.50), time = 1.11\n"
     ]
    }
   ],
   "source": [
    "seed = 12345\n",
    "best_observed_ei_all = []\n",
    "best_random_all = []\n",
    "cpu_time_all = []\n",
    "\n",
    "import warnings\n",
    "warnings.filterwarnings('ignore')\n",
    "\n",
    "for trial in range(N_TRIALS):\n",
    "    \n",
    "    print(f\"Trial {trial + 1} of {N_TRIALS}\")\n",
    "    torch.manual_seed(seed)\n",
    "    seed = seed + 1\n",
    "    best_observed_ei = []\n",
    "    best_random = []\n",
    "    cpu_time = []\n",
    "    \n",
    "    # Initial random observations are the same for both acquisition functions\n",
    "    train_x_ei = gen_x(INITIAL_POINTS).squeeze()\n",
    "    train_y_ei = oracle(train_x_ei).squeeze()\n",
    "    \n",
    "    # Initialize models\n",
    "    model = SingleTaskGP(train_X=train_x_ei, train_Y=train_y_ei)\n",
    "    model = model.to(device=device, dtype=train_x_ei.dtype)\n",
    "    mll = ExactMarginalLogLikelihood(model.likelihood, model)\n",
    "\n",
    "    # Keep track of the best observed point at each iteration\n",
    "    best_value_ei = oracle(train_x_ei).max().item()\n",
    "    best_observed_ei.append(best_value_ei)\n",
    "    best_random.append(best_value_ei)\n",
    "    \n",
    "    print(f\"Initial sample, best_value: {best_value_ei:4.3}\")\n",
    "\n",
    "    # Run N_BATCH rounds of BO after the initial random batch\n",
    "    for iteration in range(N_BATCH):\n",
    "        \n",
    "        t0 = time.time()\n",
    "        \n",
    "        # Fit models\n",
    "        fit_gpytorch_model(mll, options={\"maxiter\": FIT_OPTIMIZER_ITER})\n",
    "        \n",
    "        # Define the acquisition function\n",
    "        EI = ExpectedImprovement(model=model, best_f=best_value_ei)\n",
    "\n",
    "        # Optimize and get observations\n",
    "        new_x_ei, new_y_ei = optimize_acq_and_return_observation(EI)\n",
    "        \n",
    "        # Update training points\n",
    "        train_x_ei = torch.cat((train_x_ei, new_x_ei.unsqueeze(dim=0)))\n",
    "        train_y_ei = torch.cat((train_y_ei, new_y_ei.unsqueeze(dim=0)))\n",
    "                        \n",
    "        # Get the new best observed value\n",
    "        best_value_ei = oracle(train_x_ei).max().item()\n",
    "        best_observed_ei.append(best_value_ei)\n",
    "        \n",
    "        # Get the new best value if random sampling is used\n",
    "        next_random_best = oracle(gen_x(BATCH_SIZE).squeeze()).max().item()\n",
    "        best_random.append(max(best_random[-1], next_random_best))\n",
    "        \n",
    "        # Reinitialize the model\n",
    "        model.reinitialize(train_X=train_x_ei, train_Y=train_y_ei, keep_params=True)        \n",
    "        \n",
    "        t1 = time.time()\n",
    "        cpu_time.append(t1 - t0)\n",
    "        \n",
    "        # Print out info for every 5th batch\n",
    "        if (iteration+1) % 5 == 0:\n",
    "            print(f\"Batch {iteration+1:2}: best_value (EI, random) \" + \n",
    "                  f\"= ({best_value_ei:4.2f},{max(best_random):4.2f}), time = {t1-t0:4.2f}\")\n",
    "\n",
    "    best_observed_ei_all.append(best_observed_ei)\n",
    "    best_random_all.append(best_random)\n",
    "    cpu_time_all.append(cpu_time)"
   ]
  },
  {
   "cell_type": "markdown",
   "metadata": {
    "collapsed": true
   },
   "source": [
    "#### Plot results"
   ]
  },
  {
   "cell_type": "code",
   "execution_count": 10,
   "metadata": {},
   "outputs": [
    {
     "data": {
      "text/plain": [
       "<matplotlib.legend.Legend at 0x7fe6e49b6d68>"
      ]
     },
     "execution_count": 10,
     "metadata": {
      "bento_obj_id": "140629654596968"
     },
     "output_type": "execute_result"
    },
    {
     "data": {
      "image/png": "[encoded data removed]",
      "text/plain": [
       "<Figure size 432x288 with 1 Axes>"
      ]
     },
     "metadata": {
      "bento_obj_id": "140630282558824"
     },
     "output_type": "display_data"
    }
   ],
   "source": [
    "from matplotlib import pyplot as plt\n",
    "import numpy as np\n",
    "%matplotlib inline\n",
    "\n",
    "def ci(y):\n",
    "    return 1.96 * y.std(axis=0) / np.sqrt(N_TRIALS)\n",
    "\n",
    "iters = np.arange(N_BATCH+1)*BATCH_SIZE+INITIAL_POINTS\n",
    "y_ei = np.asarray(best_observed_ei_all)\n",
    "y_rnd = np.asarray(best_random_all)\n",
    "\n",
    "fig, ax = plt.subplots(1, 1, figsize=(6, 4))\n",
    "ax.errorbar(iters, y_ei.mean(axis=0), yerr=ci(y_ei), label=\"analytic-EI\", linewidth=1.5)\n",
    "ax.errorbar(iters, y_rnd.mean(axis=0), yerr=ci(y_rnd), label=\"random\", linewidth=1.5)\n",
    "plt.plot([0, N_BATCH*BATCH_SIZE+INITIAL_POINTS], [MAX_VAL]*2, 'k', label=\"true objective\", linewidth=2)\n",
    "ax.set_ylim(bottom=0.5)\n",
    "ax.set(xlabel='number of points', ylabel='best objective value')\n",
    "ax.legend(loc=\"lower right\")"
   ]
  },
  {
   "cell_type": "code",
   "execution_count": 11,
   "metadata": {},
   "outputs": [
    {
     "data": {
      "text/plain": [
       "1.9689637851715087"
      ]
     },
     "execution_count": 11,
     "metadata": {
      "bento_obj_id": "140629654835272"
     },
     "output_type": "execute_result"
    }
   ],
   "source": [
    "np.array(cpu_time_all).mean()"
   ]
  }
 ],
 "metadata": {
  "anaconda-cloud": [],
  "anp_cloned_from": {
   "notebook_id": "327801827863318",
   "revision_id": "2483261731900726"
  },
  "bento_stylesheets": {
   "bento/extensions/flow/main.css": true,
   "bento/extensions/kernel_selector/main.css": true,
   "bento/extensions/kernel_ui/main.css": true,
   "bento/extensions/new_kernel/main.css": true,
   "bento/extensions/system_usage/main.css": true,
   "bento/extensions/theme/main.css": true
  },
  "disseminate_notebook_id": {
   "notebook_id": "474819769721127"
  },
  "disseminate_notebook_info": {
   "bento_version": "20190318-030220",
   "description": "to compare against MC",
   "hide_code": false,
   "hipster_group": "",
   "kernel_build_info": {
    "error": "The file located at '/data/users/drjiang/fbsource/fbcode/bento/kernels/local/ae_lazarus/TARGETS' could not be found."
   },
   "no_uii": true,
   "notebook_number": "74186",
   "others_can_edit": false,
   "revision_id": "431138527659565",
   "tags": "",
   "tasks": "",
   "title": "Analytic_EI_Hartmann6_noiseless"
  },
  "kernelspec": {
   "display_name": "ae_lazarus (local)",
   "language": "python",
   "name": "ae_lazarus_local"
  },
  "language_info": {
   "codemirror_mode": {
    "name": "ipython",
    "version": 3
   },
   "file_extension": ".py",
   "mimetype": "text/x-python",
   "name": "python",
   "nbconvert_exporter": "python",
   "pygments_lexer": "ipython3",
   "version": "3.6.3rc1+"
  }
 },
 "nbformat": 4,
 "nbformat_minor": 2
}
