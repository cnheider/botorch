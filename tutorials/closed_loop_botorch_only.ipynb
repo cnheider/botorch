{
 "cells": [
  {
   "cell_type": "markdown",
   "metadata": {},
   "source": [
    "## Closed-loop batch, constrained BO in botorch with qNEI\n",
    "\n",
    "In this tutorial, we'll illustrate how to implement a simple Bayesian optimization (BO) closed loop in botorch. We use the Noisy-EI (qNEI) acquisition function to optimize a constrained version of Hartmann6. The standard problem is\n",
    "\n",
    "$$f(x) = -\\sum_{i=1}^4 \\alpha_i \\exp \\left( -\\sum_{j=1}^6 A_{ij} (x_j - P_{ij})^2  \\right)$$\n",
    "\n",
    "over $x \\in [0,1]^6$. We add an additional (noisily observed) constraint $\\|x\\|_1 -3 \\le 0$. Parameter values can be found in `botorch/test_functions/hartmann6.py`. Since botorch assumes a maximization problem, we will attempt to maximize $-f(x)$ to achieve $\\max_{x} -f(x) = 3.32237$. In real BO applications, the design $x$ can influence multiple metrics in unknown ways, and the decision-maker often wants to optimize one metric without sacrificing another. To mimic this situation, we assume that both the objective and the constraint are observed with noise. "
   ]
  },
  {
   "cell_type": "code",
   "execution_count": 1,
   "metadata": {
    "collapsed": true
   },
   "outputs": [],
   "source": [
    "import torch\n",
    "\n",
    "device = torch.device(\"cuda\" if torch.cuda.is_available() else \"cpu\")\n",
    "dtype = torch.float"
   ]
  },
  {
   "cell_type": "markdown",
   "metadata": {},
   "source": [
    "#### Problem setup\n",
    "\n",
    "First, we define the constraint used in the example in `outcome_constraint`. The second function `weighted_obj` is a \"feasibility-weighted objective,\" which returns zero when not feasible. "
   ]
  },
  {
   "cell_type": "code",
   "execution_count": 2,
   "metadata": {
    "collapsed": true
   },
   "outputs": [],
   "source": [
    "from botorch.test_functions.hartmann6 import neg_hartmann6\n",
    "\n",
    "def outcome_constraint(X):\n",
    "    \"\"\"L1 constraint; feasible if less than or equal to zero.\"\"\"\n",
    "    return X.sum(dim=-1)-3\n",
    "\n",
    "def weighted_obj(X):\n",
    "    \"\"\"Feasibility weighted objective; zero if not feasible.\"\"\"\n",
    "    return neg_hartmann6(X) * (outcome_constraint(X) <= 0).to(dtype=torch.float)"
   ]
  },
  {
   "cell_type": "markdown",
   "metadata": {},
   "source": [
    "#### Model initialization\n",
    "\n",
    "We use a `MultiOutputGP` to model the objective (output 0) and the constraint (output 1). Each component is a `ConstantNoiseGP`. The models are initialized with 10 training points drawn randomly from $[0,1]^6$, as shown in the helper function below."
   ]
  },
  {
   "cell_type": "code",
   "execution_count": 3,
   "metadata": {
    "collapsed": true
   },
   "outputs": [],
   "source": [
    "from botorch.models import ConstantNoiseGP, MultiOutputGP\n",
    "from gpytorch.mlls.sum_marginal_log_likelihood import SumMarginalLogLikelihood\n",
    "\n",
    "NOISE_SE = 0.2\n",
    "train_y_se = torch.tensor(NOISE_SE, device=device)\n",
    "\n",
    "def initialize_model(n = 10):\n",
    "    # generate training data\n",
    "    train_x = torch.rand(10, 6, device=device, dtype=dtype)\n",
    "    exact_obj = neg_hartmann6(train_x)\n",
    "    exact_con = outcome_constraint(train_x)\n",
    "    train_obj = exact_obj + NOISE_SE * torch.randn_like(exact_obj)\n",
    "    train_con = exact_con + NOISE_SE * torch.randn_like(exact_con)\n",
    "    best_observed_value = weighted_obj(train_x).max().item()\n",
    "    \n",
    "    # define models for objective and constraint\n",
    "    model_obj = ConstantNoiseGP(train_X=train_x, train_Y=train_obj, train_Y_se=train_y_se)\n",
    "    model_obj = model_obj.to(device=device, dtype=train_x.dtype)\n",
    "    model_con = ConstantNoiseGP(train_X=train_x, train_Y=train_con, train_Y_se=train_y_se)\n",
    "    model_con = model_con.to(device=device, dtype=train_x.dtype)\n",
    "    \n",
    "    # combine into a multi-output GP model\n",
    "    model = MultiOutputGP(gp_models=[model_obj, model_con])\n",
    "    model = model.to(device=device, dtype=train_x.dtype)\n",
    "    mll = SumMarginalLogLikelihood(model.likelihood, model)\n",
    "    \n",
    "    return train_x, train_obj, train_con, mll, model, best_observed_value"
   ]
  },
  {
   "cell_type": "markdown",
   "metadata": {},
   "source": [
    "We will also need to define mappings that take the outputs of the GP and return the objective and the constraint. In general, these can be any `Callable`, but here we simply need to index the correct output."
   ]
  },
  {
   "cell_type": "code",
   "execution_count": 4,
   "metadata": {},
   "outputs": [],
   "source": [
    "from botorch.acquisition.objective import ConstrainedMCObjective\n",
    "\n",
    "def obj_callable(Z):\n",
    "    return Z[...,0]\n",
    "\n",
    "def constraint_callable(Z):\n",
    "    return Z[...,1]\n",
    "\n",
    "# define a feasibility-weighted objective for optimization (see documentation)\n",
    "constrained_obj = ConstrainedMCObjective(\n",
    "    objective=obj_callable,\n",
    "    constraints=[constraint_callable],\n",
    ")"
   ]
  },
  {
   "cell_type": "markdown",
   "metadata": {},
   "source": [
    "#### Define a helper function that performs the essential BO step\n",
    "The helper function below takes an acquisition function as an argument, optimizes it, and returns the batch $\\{x_1, x_2, \\ldots x_q\\}$ along with the observed function values. For this example, we'll use a small batch of $q=3$."
   ]
  },
  {
   "cell_type": "code",
   "execution_count": 5,
   "metadata": {
    "collapsed": true
   },
   "outputs": [],
   "source": [
    "from botorch.optim import joint_optimize\n",
    "\n",
    "BATCH_SIZE = 3\n",
    "bounds = torch.tensor([[0.0]*6, [1.0]*6], device=device, dtype=dtype)\n",
    "\n",
    "def optimize_acqf_and_get_observation(acq_func):\n",
    "    \"\"\"Optimizes the acquisition function, and returns a new candidate and a noisy observation\"\"\"\n",
    "    \n",
    "    # optimize\n",
    "    candidates = joint_optimize(\n",
    "        acq_function=acq_func,\n",
    "        bounds=bounds,\n",
    "        q=BATCH_SIZE,\n",
    "        num_restarts=10,\n",
    "        raw_samples=50,\n",
    "        options={\"simple_init\": True, \"maxiter\": 50},\n",
    "    )\n",
    "\n",
    "    # observe new values \n",
    "    new_x = candidates.detach()\n",
    "    new_obj = neg_hartmann6(new_x)\n",
    "    new_con = outcome_constraint(new_x)\n",
    "    return new_x, new_obj, new_con"
   ]
  },
  {
   "cell_type": "markdown",
   "metadata": {},
   "source": [
    "#### Perform Bayesian Optimization loop with qNEI\n",
    "The Bayesian optimization \"loop\" for a batch size of $q$ simply iterates the following steps: (1) given a surrogate model, choose a batch of points $\\{x_1, x_2, \\ldots x_q\\}$, (2) observe $f(x)$ for each $x$ in the batch, and (3) update the surrogate model. We run `N_TRIALS=20` independent trials of `N_BATCH=10` iterations. The acquisition function is approximated using `MC_SAMPLES=500` samples. Setting `verbose` to `True` turns on print statements that show current progress."
   ]
  },
  {
   "cell_type": "code",
   "execution_count": 6,
   "metadata": {},
   "outputs": [
    {
     "name": "stdout",
     "output_type": "stream",
     "text": [
      "\n",
      "Trial 1  of 20..........\n",
      "Trial 2  of 20..........\n",
      "Trial 3  of 20..........\n",
      "Trial 4  of 20..........\n",
      "Trial 5  of 20..........\n",
      "Trial 6  of 20..........\n",
      "Trial 7  of 20..........\n",
      "Trial 8  of 20..........\n",
      "Trial 9  of 20..........\n",
      "Trial 10 of 20..........\n",
      "Trial 11 of 20..........\n",
      "Trial 12 of 20..........\n",
      "Trial 13 of 20..........\n",
      "Trial 14 of 20..........\n",
      "Trial 15 of 20..........\n",
      "Trial 16 of 20..........\n",
      "Trial 17 of 20..........\n",
      "Trial 18 of 20..........\n",
      "Trial 19 of 20..........\n",
      "Trial 20 of 20.........."
     ]
    }
   ],
   "source": [
    "from botorch import fit_model\n",
    "from botorch.acquisition.monte_carlo import qNoisyExpectedImprovement\n",
    "from botorch.acquisition.sampler import SobolQMCNormalSampler\n",
    "import time\n",
    "import warnings\n",
    "\n",
    "warnings.filterwarnings('ignore')\n",
    "N_TRIALS = 20\n",
    "N_BATCH = 10\n",
    "MC_SAMPLES = 500\n",
    "best_observed_all, best_random_all = [], []\n",
    "verbose = False\n",
    "\n",
    "\n",
    "# average over multiple trials\n",
    "for trial in range(N_TRIALS):\n",
    "    \n",
    "    print(f\"\\nTrial {trial+1 : <2} of {N_TRIALS}\", end='')\n",
    "    best_observed, best_random = [], []\n",
    "    \n",
    "    # call helper function to initialize model\n",
    "    train_x, train_obj, train_con, mll, model, best_observed_value = initialize_model(n=10)\n",
    "    \n",
    "    best_observed.append(best_observed_value)\n",
    "    best_random.append(best_observed_value)\n",
    "    \n",
    "    # run N_BATCH rounds of BayesOpt after the initial random batch\n",
    "    for iteration in range(N_BATCH):    \n",
    "        \n",
    "        t0 = time.time()\n",
    "        \n",
    "        # fit the model\n",
    "        fit_model(mll)\n",
    "        \n",
    "        # define the qNEI acquisition module using a QMC sampler\n",
    "        qmc_sampler = SobolQMCNormalSampler(num_samples=MC_SAMPLES)\n",
    "        qNEI = qNoisyExpectedImprovement(\n",
    "            model=model, \n",
    "            X_baseline=train_x,\n",
    "            sampler=qmc_sampler, \n",
    "            objective=constrained_obj,\n",
    "        )\n",
    "        \n",
    "        # optimize and get new observation\n",
    "        new_x, new_obj, new_con = optimize_acqf_and_get_observation(qNEI)\n",
    "            \n",
    "        # update training points\n",
    "        train_x = torch.cat((train_x, new_x))\n",
    "        train_obj = torch.cat((train_obj, new_obj))\n",
    "        train_con = torch.cat((train_con, new_con))\n",
    "        \n",
    "        # update progress\n",
    "        rand_x = torch.rand(BATCH_SIZE, 6)\n",
    "        next_random_best = weighted_obj(rand_x).max().item()\n",
    "        best_random.append(max(best_random[-1], next_random_best))       \n",
    "        best_value = weighted_obj(train_x).max().item()\n",
    "        best_observed.append(best_value)\n",
    "        \n",
    "        # reinitialize the model so it is ready for fitting on next iteration\n",
    "        model.reinitialize(\n",
    "            train_Xs=[train_x, train_x], \n",
    "            train_Ys=[train_obj, train_con], \n",
    "            train_Y_ses=[train_y_se, train_y_se]\n",
    "        )\n",
    "        \n",
    "        t1 = time.time()\n",
    "        \n",
    "        if verbose:\n",
    "            print(\n",
    "                f\"\\nBatch {iteration+1:2}: best_value (random, NEI) = \"\n",
    "                f\"({max(best_random):4.2f}, {best_value:4.2f}), time = {t1-t0:4.2f}.\", end=''\n",
    "            )\n",
    "        else:\n",
    "            print(\".\", end='')\n",
    "   \n",
    "    best_observed_all.append(best_observed)\n",
    "    best_random_all.append(best_random)"
   ]
  },
  {
   "cell_type": "markdown",
   "metadata": {},
   "source": [
    "#### Plot the results"
   ]
  },
  {
   "cell_type": "code",
   "execution_count": 7,
   "metadata": {},
   "outputs": [
    {
     "data": {
      "text/plain": [
       "<matplotlib.legend.Legend at 0x7fd4d82eb550>"
      ]
     },
     "execution_count": 7,
     "metadata": {
      "bento_obj_id": "140552136734032"
     },
     "output_type": "execute_result"
    },
    {
     "data": {
      "image/png": "[encoded data removed]",
      "text/plain": [
       "<Figure size 576x432 with 1 Axes>"
      ]
     },
     "metadata": {
      "bento_obj_id": "140552211022288"
     },
     "output_type": "display_data"
    }
   ],
   "source": [
    "import numpy as np\n",
    "from matplotlib import pyplot as plt\n",
    "from botorch.test_functions.hartmann6 import GLOBAL_MAXIMUM\n",
    "%matplotlib inline\n",
    "\n",
    "def ci(y):\n",
    "    return 1.96 * y.std(axis=0) / np.sqrt(N_TRIALS)\n",
    "\n",
    "iters = np.arange(N_BATCH+1)*BATCH_SIZE\n",
    "y_nei = np.asarray(best_observed_all)\n",
    "y_rnd = np.asarray(best_random_all)\n",
    "\n",
    "fig, ax = plt.subplots(1, 1, figsize=(8, 6))\n",
    "ax.errorbar(iters, y_rnd.mean(axis=0), yerr=ci(y_rnd), label=\"random\", linewidth=1.5)\n",
    "ax.errorbar(iters, y_nei.mean(axis=0), yerr=ci(y_nei), label=\"qNEI\", linewidth=1.5)\n",
    "plt.plot([0, N_BATCH*BATCH_SIZE], [GLOBAL_MAXIMUM]*2, 'k', label=\"true objective\", linewidth=2)\n",
    "ax.set_ylim(bottom=0.5)\n",
    "ax.set(xlabel='number of observations (beyond initial points)', ylabel='best objective value')\n",
    "ax.legend(loc=\"lower right\")"
   ]
  }
 ],
 "metadata": {
  "bento_stylesheets": {
   "bento/extensions/flow/main.css": true,
   "bento/extensions/kernel_selector/main.css": true,
   "bento/extensions/kernel_ui/main.css": true,
   "bento/extensions/new_kernel/main.css": true,
   "bento/extensions/system_usage/main.css": true,
   "bento/extensions/theme/main.css": true
  },
  "disseminate_notebook_id": {
   "notebook_id": "343736019590572"
  },
  "disseminate_notebook_info": {
   "bento_version": "20190325-030410",
   "description": "",
   "hide_code": false,
   "hipster_group": "",
   "kernel_build_info": {
    "error": "The file located at '/data/users/drjiang/fbsource/fbcode/bento/kernels/local/ae_lazarus/TARGETS' could not be found."
   },
   "no_uii": true,
   "notebook_number": "76398",
   "others_can_edit": false,
   "request_review": true,
   "reviewers": "",
   "revision_id": "805910343103455",
   "tags": "",
   "tasks": "",
   "title": "closed_loop_qNEI"
  },
  "kernelspec": {
   "display_name": "ae_lazarus (local)",
   "language": "python",
   "name": "ae_lazarus_local"
  },
  "language_info": {
   "codemirror_mode": {
    "name": "ipython",
    "version": 3
   },
   "file_extension": ".py",
   "mimetype": "text/x-python",
   "name": "python",
   "nbconvert_exporter": "python",
   "pygments_lexer": "ipython3",
   "version": "3.6.3rc1+"
  }
 },
 "nbformat": 4,
 "nbformat_minor": 2
}
