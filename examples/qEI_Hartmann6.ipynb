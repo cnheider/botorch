{
  "cells": [
    {
      "cell_type": "markdown",
      "metadata": {},
      "source": [
        "# Batched Bayesian Optimization\n",
        "\n",
        "This example shows how to perform batched Bayesian optimization on a 6-dimensional synthetic test function.\n",
        "\n",
        "For the surrogate model we use a GP with a simple RBF kernel and an exact likelihood.\n",
        "\n",
        "For the Bayesian optimization we use the q-EI acquisition function. This uses the reparamaeterization trick to efficiently consider entire batches, rather than relying on the \"fantasy\" or \"constant liar\" trick. "
      ]
    },
    {
      "cell_type": "markdown",
      "metadata": {},
      "source": [
        "#### Set up oracle and random point sampler"
      ]
    },
    {
      "cell_type": "code",
      "execution_count": 2,
      "metadata": {},
      "outputs": [],
      "source": [
        "import torch\n",
        "\n",
        "from botorch.test_functions.hartmann6 import hartmann6, GLOBAL_MINIMUM\n",
        "\n",
        "DATA_DIM = 6\n",
        "MAX_VAL = -GLOBAL_MINIMUM\n",
        "\n",
        "\n",
        "def oracle(X):\n",
        "    \"\"\"Oracle function for generating observations\"\"\"\n",
        "    return -hartmann6(X)\n",
        "\n",
        "\n",
        "def gen_x(num_samples):\n",
        "    \"\"\"Generate random points in the unit cube [0, 1]^6\"\"\"\n",
        "    return torch.rand(num_samples, DATA_DIM)"
      ]
    },
    {
      "cell_type": "markdown",
      "metadata": {},
      "source": [
        "#### Import a basic GP model\n",
        "\n",
        "This is the model specification of a simple GP model in gpytorch, using a constant mean, RBF Kernel with Automatic Relevance Discovery (ARD)"
      ]
    },
    {
      "cell_type": "code",
      "execution_count": 3,
      "metadata": {
        "collapsed": true
      },
      "outputs": [],
      "source": [
        "from botorch.models import GPRegressionModel"
      ]
    },
    {
      "cell_type": "markdown",
      "metadata": {},
      "source": [
        "#### Perform Bayesian Optimization loop"
      ]
    },
    {
      "cell_type": "markdown",
      "metadata": {
        "collapsed": true
      },
      "source": [
        "Now that we have defined the GP model and a way to train it we can perform Bayesian Optimization. Here we will start with a small number of points, and have batches of size 5. To perform the Bayes opt we are going to use the qEI acquisition function with the reparameterization trick. "
      ]
    },
    {
      "cell_type": "code",
      "execution_count": 4,
      "metadata": {
        "scrolled": true
      },
      "outputs": [
        {
          "name": "stdout",
          "output_type": "stream",
          "text": [
            "Trial 1 of 10\n",
            "Trial 2 of 10\n",
            "Trial 3 of 10\n",
            "Trial 4 of 10\n",
            "Trial 5 of 10\n",
            "Trial 6 of 10\n",
            "Trial 7 of 10\n",
            "Trial 8 of 10\n",
            "Trial 9 of 10\n",
            "Trial 10 of 10\n"
          ]
        }
      ],
      "source": [
        "from botorch.acquisition import qExpectedImprovement\n",
        "from botorch.acquisition.functional import expected_improvement\n",
        "from botorch.optim import q_batch_initialization\n",
        "from botorch import fit_model, gen_candidates\n",
        "from gpytorch.likelihoods import GaussianLikelihood\n",
        "\n",
        "\n",
        "INITIAL_POINTS = 10\n",
        "BATCH_SIZE = 5\n",
        "N_BATCH = 10\n",
        "INNER_OPTIMIZER_LOOPS = 25\n",
        "N_TRIALS = 10\n",
        "\n",
        "best_observed_all = []\n",
        "best_random_all = []\n",
        "\n",
        "\n",
        "# Average over multiple trials\n",
        "for trial in range(N_TRIALS):\n",
        "    \n",
        "    print(f\"Trial {trial + 1} of {N_TRIALS}\")\n",
        "    best_observed = []\n",
        "    best_random = []  \n",
        "    \n",
        "    # Initial random observations\n",
        "    train_x = gen_x(INITIAL_POINTS)\n",
        "    train_y = oracle(train_x)\n",
        "\n",
        "    # keep track of the best observed point at each iteration\n",
        "    best_value = train_y.max().item()\n",
        "    best_observed.append(best_value)\n",
        "    best_random.append(best_value)\n",
        "\n",
        "    # Run N_BATCH rounds of BayesOpt after the initial random batch\n",
        "    for iteration in range(N_BATCH): \n",
        "\n",
        "        # The likelihood output is a Gaussian with predictive mean and variance\n",
        "        likelihood = GaussianLikelihood()\n",
        "        # Initialize and fit the model\n",
        "        model = fit_model(GPRegressionModel, likelihood, train_x.data, train_y.data, max_iter=100, verbose=False)\n",
        "        # get an instance of the qEI module\n",
        "        qEI = qExpectedImprovement(model, best_f=best_value)\n",
        "        # generate the initial conditions for the optimization\n",
        "        initial_candidates = q_batch_initialization(\n",
        "            model=model,\n",
        "            gen_function=gen_x,\n",
        "            batch_size=BATCH_SIZE,\n",
        "            multiplier=2000,\n",
        "            utility=expected_improvement,\n",
        "            best_f=best_value,\n",
        "        )\n",
        "        # perform the optimization\n",
        "        candidates = gen_candidates(\n",
        "            initial_candidates=initial_candidates,\n",
        "            acquisition_function=qEI,\n",
        "            lower_bounds=0,\n",
        "            upper_bounds=1,\n",
        "            max_iter=INNER_OPTIMIZER_LOOPS,\n",
        "            verbose=False,\n",
        "        )\n",
        "        \n",
        "        # fetch the new values \n",
        "        new_x = candidates.detach()\n",
        "        new_y = oracle(new_x)\n",
        "        \n",
        "        # update training points\n",
        "        train_x = torch.cat((train_x, new_x))\n",
        "        train_y = torch.cat((train_y, new_y))\n",
        "        next_random_best = oracle(gen_x(BATCH_SIZE)).max().item()\n",
        "        best_random.append(max(best_random[-1], next_random_best))\n",
        "                           \n",
        "        # get the new best observed value\n",
        "        best_value = train_y.max().item()\n",
        "        best_observed.append(best_value)\n",
        "        \n",
        "    best_observed_all.append(best_observed)\n",
        "    best_random_all.append(best_random)"
      ]
    },
    {
      "cell_type": "markdown",
      "metadata": {},
      "source": [
        "#### Plot the performance against random"
      ]
    },
    {
      "cell_type": "code",
      "execution_count": 5,
      "metadata": {},
      "outputs": [
        {
          "data": {
            "text/plain": [
              "<matplotlib.legend.Legend at 0x7fdeae71fa90>"
            ]
          },
          "execution_count": 5,
          "metadata": {
            "bento_obj_id": "140594386172560"
          },
          "output_type": "execute_result"
        },
        {
          "data": {
            "image/png": "[encoded data removed]",
            "text/plain": [
              "<matplotlib.figure.Figure at 0x7fdec0060630>"
            ]
          },
          "metadata": {
            "bento_obj_id": "140594681087536"
          },
          "output_type": "display_data"
        }
      ],
      "source": [
        "import pandas as pd\n",
        "from matplotlib import pyplot as plt\n",
        "%matplotlib inline\n",
        "\n",
        "b_obs = pd.DataFrame(best_observed_all)\n",
        "b_rnd = pd.DataFrame(best_random_all)\n",
        "\n",
        "fig, ax = plt.subplots(1, 1, figsize=(8, 5))\n",
        "ax.errorbar(range(1 + N_BATCH), b_obs.mean(axis=0), yerr=1.96*b_obs.sem(axis=0), label=\"qEI\")\n",
        "ax.errorbar(range(1 + N_BATCH), b_rnd.mean(axis=0), yerr=1.96*b_rnd.sem(axis=0), label=\"random\")\n",
        "plt.plot([1, N_BATCH], [MAX_VAL]*2, 'k', label=\"function maximum\")\n",
        "ax.set_ylim(bottom=0)\n",
        "ax.legend(loc=\"upper left\")"
      ]
    }
  ],
  "metadata": {
    "anaconda-cloud": [],
    "kernelspec": {
      "language": "python",
      "name": "python3"
    }
  },
  "nbformat": 4,
  "nbformat_minor": 2
}
